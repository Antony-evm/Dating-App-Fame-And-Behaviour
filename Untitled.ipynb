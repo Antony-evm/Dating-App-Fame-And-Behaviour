{
 "cells": [
  {
   "cell_type": "code",
   "execution_count": 3,
   "id": "defined-budapest",
   "metadata": {},
   "outputs": [
    {
     "name": "stdout",
     "output_type": "stream",
     "text": [
      "The nb_black extension is already loaded. To reload it, use:\n",
      "  %reload_ext nb_black\n"
     ]
    },
    {
     "data": {
      "application/javascript": [
       "\n",
       "            setTimeout(function() {\n",
       "                var nbb_cell_id = 3;\n",
       "                var nbb_unformatted_code = \"%load_ext nb_black\\nimport polars as pl\\nimport pandas as pd\\nimport numpy as np\\nimport matplotlib.pyplot as plt\\nimport seaborn as sns\\nimport plotly.express as px\\nimport os\";\n",
       "                var nbb_formatted_code = \"%load_ext nb_black\\nimport polars as pl\\nimport pandas as pd\\nimport numpy as np\\nimport matplotlib.pyplot as plt\\nimport seaborn as sns\\nimport plotly.express as px\\nimport os\";\n",
       "                var nbb_cells = Jupyter.notebook.get_cells();\n",
       "                for (var i = 0; i < nbb_cells.length; ++i) {\n",
       "                    if (nbb_cells[i].input_prompt_number == nbb_cell_id) {\n",
       "                        if (nbb_cells[i].get_text() == nbb_unformatted_code) {\n",
       "                             nbb_cells[i].set_text(nbb_formatted_code);\n",
       "                        }\n",
       "                        break;\n",
       "                    }\n",
       "                }\n",
       "            }, 500);\n",
       "            "
      ],
      "text/plain": [
       "<IPython.core.display.Javascript object>"
      ]
     },
     "metadata": {},
     "output_type": "display_data"
    }
   ],
   "source": [
    "%load_ext nb_black\n",
    "import polars as pl\n",
    "import pandas as pd\n",
    "import numpy as np\n",
    "import matplotlib.pyplot as plt\n",
    "import seaborn as sns\n",
    "import plotly.express as px"
   ]
  },
  {
   "cell_type": "code",
   "execution_count": 48,
   "id": "fresh-proportion",
   "metadata": {},
   "outputs": [
    {
     "data": {
      "application/javascript": [
       "\n",
       "            setTimeout(function() {\n",
       "                var nbb_cell_id = 48;\n",
       "                var nbb_unformatted_code = \"df = pl.read_csv(\\\"lovoo_v3_users_api-results.csv\\\")\";\n",
       "                var nbb_formatted_code = \"df = pl.read_csv(\\\"lovoo_v3_users_api-results.csv\\\")\";\n",
       "                var nbb_cells = Jupyter.notebook.get_cells();\n",
       "                for (var i = 0; i < nbb_cells.length; ++i) {\n",
       "                    if (nbb_cells[i].input_prompt_number == nbb_cell_id) {\n",
       "                        if (nbb_cells[i].get_text() == nbb_unformatted_code) {\n",
       "                             nbb_cells[i].set_text(nbb_formatted_code);\n",
       "                        }\n",
       "                        break;\n",
       "                    }\n",
       "                }\n",
       "            }, 500);\n",
       "            "
      ],
      "text/plain": [
       "<IPython.core.display.Javascript object>"
      ]
     },
     "metadata": {},
     "output_type": "display_data"
    }
   ],
   "source": [
    "df = pl.read_csv(\"lovoo_v3_users_api-results.csv\")"
   ]
  },
  {
   "cell_type": "code",
   "execution_count": 50,
   "id": "emotional-fashion",
   "metadata": {},
   "outputs": [
    {
     "name": "stdout",
     "output_type": "stream",
     "text": [
      "(3973, 42)\n"
     ]
    },
    {
     "data": {
      "text/html": [
       "<div><style>\n",
       ".dataframe > thead > tr > th,\n",
       ".dataframe > tbody > tr > td {\n",
       "  text-align: right;\n",
       "}\n",
       "</style>\n",
       "<small>shape: (5, 42)</small><table border=\"1\" class=\"dataframe\"><thead><tr><th>gender</th><th>genderLooking</th><th>age</th><th>name</th><th>counts_details</th><th>counts_pictures</th><th>counts_profileVisits</th><th>counts_kisses</th><th>counts_fans</th><th>counts_g</th><th>flirtInterests_chat</th><th>flirtInterests_friends</th><th>flirtInterests_date</th><th>country</th><th>city</th><th>location</th><th>distance</th><th>isFlirtstar</th><th>isHighlighted</th><th>isInfluencer</th><th>isMobile</th><th>isNew</th><th>isOnline</th><th>isVip</th><th>lang_count</th><th>lang_fr</th><th>lang_en</th><th>lang_de</th><th>lang_it</th><th>lang_es</th><th>lang_pt</th><th>verified</th><th>shareProfileEnabled</th><th>lastOnlineDate</th><th>lastOnlineTime</th><th>birthd</th><th>crypt</th><th>freetext</th><th>whazzup</th><th>pictureId</th><th>userId</th><th>isSystemProfile</th></tr><tr><td>str</td><td>str</td><td>i64</td><td>str</td><td>f64</td><td>i64</td><td>i64</td><td>i64</td><td>i64</td><td>i64</td><td>bool</td><td>bool</td><td>bool</td><td>str</td><td>str</td><td>str</td><td>f64</td><td>i64</td><td>i64</td><td>i64</td><td>i64</td><td>i64</td><td>i64</td><td>i64</td><td>i64</td><td>bool</td><td>bool</td><td>bool</td><td>bool</td><td>bool</td><td>bool</td><td>i64</td><td>i64</td><td>str</td><td>i64</td><td>i64</td><td>str</td><td>str</td><td>str</td><td>str</td><td>str</td><td>str</td></tr></thead><tbody><tr><td>&quot;F&quot;</td><td>&quot;M&quot;</td><td>25</td><td>&quot;daeni&quot;</td><td>1.0</td><td>4</td><td>8279</td><td>239</td><td>0</td><td>3</td><td>true</td><td>true</td><td>true</td><td>&quot;CH&quot;</td><td>&quot;Rothenburg&quot;</td><td>&quot;Rümlang&quot;</td><td>175.0</td><td>0</td><td>0</td><td>0</td><td>1</td><td>0</td><td>0</td><td>0</td><td>1</td><td>false</td><td>false</td><td>true</td><td>false</td><td>false</td><td>false</td><td>0</td><td>1</td><td>&quot;2015-04-25T20:…</td><td>1429994606</td><td>0</td><td>null</td><td>&quot;Nur tote Fisch…</td><td>&quot;Nur tote fisch…</td><td>&quot;4e3842f79b70e7…</td><td>&quot;55303fc3160ba0…</td><td>null</td></tr><tr><td>&quot;F&quot;</td><td>&quot;M&quot;</td><td>22</td><td>&quot;italiana 92&quot;</td><td>0.85</td><td>5</td><td>663</td><td>13</td><td>0</td><td>0</td><td>true</td><td>true</td><td>true</td><td>&quot;CH&quot;</td><td>&quot;Sissach&quot;</td><td>&quot;Sissach&quot;</td><td>138.0</td><td>0</td><td>0</td><td>0</td><td>1</td><td>0</td><td>0</td><td>0</td><td>3</td><td>true</td><td>false</td><td>true</td><td>true</td><td>false</td><td>false</td><td>0</td><td>1</td><td>&quot;2015-04-26T09:…</td><td>1430039975</td><td>0</td><td>null</td><td>null</td><td>&quot;Primaveraaa&lt;3&quot;</td><td>&quot;4e3d34bf5d2bce…</td><td>&quot;552e7b61c66da1…</td><td>null</td></tr><tr><td>&quot;F&quot;</td><td>&quot;M&quot;</td><td>21</td><td>&quot;Lauraaa&quot;</td><td>0.0</td><td>4</td><td>1369</td><td>88</td><td>0</td><td>2</td><td>false</td><td>false</td><td>true</td><td>&quot;CH&quot;</td><td>&quot;Bâle&quot;</td><td>&quot;Bâle&quot;</td><td>137.0</td><td>0</td><td>0</td><td>0</td><td>0</td><td>0</td><td>1</td><td>0</td><td>0</td><td>false</td><td>false</td><td>false</td><td>false</td><td>false</td><td>false</td><td>0</td><td>1</td><td>&quot;2015-04-06T14:…</td><td>1428330247</td><td>0</td><td>null</td><td>null</td><td>null</td><td>&quot;4ec96c090dc82c…</td><td>&quot;54a584ecc56da1…</td><td>null</td></tr><tr><td>&quot;F&quot;</td><td>&quot;none&quot;</td><td>20</td><td>&quot;Qqkwmdowlo&quot;</td><td>0.12</td><td>3</td><td>22187</td><td>1015</td><td>2</td><td>3</td><td>true</td><td>true</td><td>false</td><td>&quot;CA&quot;</td><td>&quot;Montréal&quot;</td><td>&quot;Berne&quot;</td><td>77.3</td><td>0</td><td>0</td><td>0</td><td>0</td><td>0</td><td>0</td><td>0</td><td>2</td><td>true</td><td>true</td><td>false</td><td>false</td><td>false</td><td>false</td><td>0</td><td>1</td><td>&quot;2015-04-07T11:…</td><td>1428405661</td><td>0</td><td>null</td><td>null</td><td>&quot;Je pense donc …</td><td>&quot;4eef8b81ebf2c8…</td><td>&quot;54c92738076ea1…</td><td>null</td></tr><tr><td>&quot;F&quot;</td><td>&quot;M&quot;</td><td>21</td><td>&quot;schaessie {3&quot;</td><td>0.15</td><td>12</td><td>35262</td><td>1413</td><td>9</td><td>12</td><td>true</td><td>false</td><td>false</td><td>&quot;DE&quot;</td><td>&quot;Rastatt&quot;</td><td>&quot;Rastatt&quot;</td><td>286.0</td><td>0</td><td>0</td><td>0</td><td>0</td><td>0</td><td>1</td><td>0</td><td>1</td><td>false</td><td>false</td><td>true</td><td>false</td><td>false</td><td>false</td><td>0</td><td>1</td><td>&quot;2015-04-06T14:…</td><td>1428330320</td><td>0</td><td>null</td><td>null</td><td>&quot;Instagram: JES…</td><td>&quot;4ef3cc5aa9d0b3…</td><td>&quot;54e1a6f6c76da1…</td><td>null</td></tr></tbody></table></div>"
      ],
      "text/plain": [
       "shape: (5, 42)\n",
       "┌────────┬──────────────┬─────┬──────────────┬───┬──────────────┬──────────────┬──────────────┬──────────────┐\n",
       "│ gender ┆ genderLookin ┆ age ┆ name         ┆ … ┆ whazzup      ┆ pictureId    ┆ userId       ┆ isSystemProf │\n",
       "│ ---    ┆ g            ┆ --- ┆ ---          ┆   ┆ ---          ┆ ---          ┆ ---          ┆ ile          │\n",
       "│ str    ┆ ---          ┆ i64 ┆ str          ┆   ┆ str          ┆ str          ┆ str          ┆ ---          │\n",
       "│        ┆ str          ┆     ┆              ┆   ┆              ┆              ┆              ┆ str          │\n",
       "╞════════╪══════════════╪═════╪══════════════╪═══╪══════════════╪══════════════╪══════════════╪══════════════╡\n",
       "│ F      ┆ M            ┆ 25  ┆ daeni        ┆ … ┆ Nur tote     ┆ 4e3842f79b70 ┆ 55303fc3160b ┆ null         │\n",
       "│        ┆              ┆     ┆              ┆   ┆ fische       ┆ e7ea57000064 ┆ a0eb728b4575 ┆              │\n",
       "│        ┆              ┆     ┆              ┆   ┆ schwimmen    ┆              ┆              ┆              │\n",
       "│        ┆              ┆     ┆              ┆   ┆ mit de…      ┆              ┆              ┆              │\n",
       "│ F      ┆ M            ┆ 22  ┆ italiana 92  ┆ … ┆ Primaveraaa< ┆ 4e3d34bf5d2b ┆ 552e7b61c66d ┆ null         │\n",
       "│        ┆              ┆     ┆              ┆   ┆ 3            ┆ ce7b160006a3 ┆ a10d1e8b4c82 ┆              │\n",
       "│ F      ┆ M            ┆ 21  ┆ Lauraaa      ┆ … ┆ null         ┆ 4ec96c090dc8 ┆ 54a584ecc56d ┆ null         │\n",
       "│        ┆              ┆     ┆              ┆   ┆              ┆ 2cb25d00000a ┆ a128638b4674 ┆              │\n",
       "│ F      ┆ none         ┆ 20  ┆ Qqkwmdowlo   ┆ … ┆ Je pense     ┆ 4eef8b81ebf2 ┆ 54c92738076e ┆ null         │\n",
       "│        ┆              ┆     ┆              ┆   ┆ donc je      ┆ c8f64000000c ┆ a1b5338b4735 ┆              │\n",
       "│        ┆              ┆     ┆              ┆   ┆ suis.        ┆              ┆              ┆              │\n",
       "│        ┆              ┆     ┆              ┆   ┆ Instagra…    ┆              ┆              ┆              │\n",
       "│ F      ┆ M            ┆ 21  ┆ schaessie {3 ┆ … ┆ Instagram:   ┆ 4ef3cc5aa9d0 ┆ 54e1a6f6c76d ┆ null         │\n",
       "│        ┆              ┆     ┆              ┆   ┆ JESSSIESCH   ┆ b3d07d000017 ┆ a135748b4a3a ┆              │\n",
       "└────────┴──────────────┴─────┴──────────────┴───┴──────────────┴──────────────┴──────────────┴──────────────┘"
      ]
     },
     "execution_count": 50,
     "metadata": {},
     "output_type": "execute_result"
    },
    {
     "data": {
      "application/javascript": [
       "\n",
       "            setTimeout(function() {\n",
       "                var nbb_cell_id = 50;\n",
       "                var nbb_unformatted_code = \"print(df.shape)\\ndf.head()\";\n",
       "                var nbb_formatted_code = \"print(df.shape)\\ndf.head()\";\n",
       "                var nbb_cells = Jupyter.notebook.get_cells();\n",
       "                for (var i = 0; i < nbb_cells.length; ++i) {\n",
       "                    if (nbb_cells[i].input_prompt_number == nbb_cell_id) {\n",
       "                        if (nbb_cells[i].get_text() == nbb_unformatted_code) {\n",
       "                             nbb_cells[i].set_text(nbb_formatted_code);\n",
       "                        }\n",
       "                        break;\n",
       "                    }\n",
       "                }\n",
       "            }, 500);\n",
       "            "
      ],
      "text/plain": [
       "<IPython.core.display.Javascript object>"
      ]
     },
     "metadata": {},
     "output_type": "display_data"
    }
   ],
   "source": [
    "print(df.shape)\n",
    "df.head()"
   ]
  },
  {
   "cell_type": "code",
   "execution_count": 51,
   "id": "ordered-shield",
   "metadata": {},
   "outputs": [
    {
     "data": {
      "text/html": [
       "<div><style>\n",
       ".dataframe > thead > tr > th,\n",
       ".dataframe > tbody > tr > td {\n",
       "  text-align: right;\n",
       "}\n",
       "</style>\n",
       "<small>shape: (9, 43)</small><table border=\"1\" class=\"dataframe\"><thead><tr><th>describe</th><th>gender</th><th>genderLooking</th><th>age</th><th>name</th><th>counts_details</th><th>counts_pictures</th><th>counts_profileVisits</th><th>counts_kisses</th><th>counts_fans</th><th>counts_g</th><th>flirtInterests_chat</th><th>flirtInterests_friends</th><th>flirtInterests_date</th><th>country</th><th>city</th><th>location</th><th>distance</th><th>isFlirtstar</th><th>isHighlighted</th><th>isInfluencer</th><th>isMobile</th><th>isNew</th><th>isOnline</th><th>isVip</th><th>lang_count</th><th>lang_fr</th><th>lang_en</th><th>lang_de</th><th>lang_it</th><th>lang_es</th><th>lang_pt</th><th>verified</th><th>shareProfileEnabled</th><th>lastOnlineDate</th><th>lastOnlineTime</th><th>birthd</th><th>crypt</th><th>freetext</th><th>whazzup</th><th>pictureId</th><th>userId</th><th>isSystemProfile</th></tr><tr><td>str</td><td>str</td><td>str</td><td>f64</td><td>str</td><td>f64</td><td>f64</td><td>f64</td><td>f64</td><td>f64</td><td>f64</td><td>f64</td><td>f64</td><td>f64</td><td>str</td><td>str</td><td>str</td><td>f64</td><td>f64</td><td>f64</td><td>f64</td><td>f64</td><td>f64</td><td>f64</td><td>f64</td><td>f64</td><td>f64</td><td>f64</td><td>f64</td><td>f64</td><td>f64</td><td>f64</td><td>f64</td><td>f64</td><td>str</td><td>f64</td><td>f64</td><td>str</td><td>str</td><td>str</td><td>str</td><td>str</td><td>str</td></tr></thead><tbody><tr><td>&quot;count&quot;</td><td>&quot;3973&quot;</td><td>&quot;3973&quot;</td><td>3973.0</td><td>&quot;3973&quot;</td><td>3973.0</td><td>3973.0</td><td>3973.0</td><td>3973.0</td><td>3973.0</td><td>3973.0</td><td>3973.0</td><td>3973.0</td><td>3973.0</td><td>&quot;3973&quot;</td><td>&quot;3973&quot;</td><td>&quot;3973&quot;</td><td>3973.0</td><td>3973.0</td><td>3973.0</td><td>3973.0</td><td>3973.0</td><td>3973.0</td><td>3973.0</td><td>3973.0</td><td>3973.0</td><td>3973.0</td><td>3973.0</td><td>3973.0</td><td>3973.0</td><td>3973.0</td><td>3973.0</td><td>3973.0</td><td>3973.0</td><td>&quot;3973&quot;</td><td>3973.0</td><td>3973.0</td><td>&quot;3973&quot;</td><td>&quot;3973&quot;</td><td>&quot;3973&quot;</td><td>&quot;3973&quot;</td><td>&quot;3973&quot;</td><td>&quot;3973&quot;</td></tr><tr><td>&quot;null_count&quot;</td><td>&quot;0&quot;</td><td>&quot;0&quot;</td><td>0.0</td><td>&quot;0&quot;</td><td>0.0</td><td>0.0</td><td>0.0</td><td>0.0</td><td>0.0</td><td>0.0</td><td>0.0</td><td>0.0</td><td>0.0</td><td>&quot;0&quot;</td><td>&quot;286&quot;</td><td>&quot;13&quot;</td><td>27.0</td><td>0.0</td><td>0.0</td><td>0.0</td><td>0.0</td><td>0.0</td><td>0.0</td><td>0.0</td><td>0.0</td><td>0.0</td><td>0.0</td><td>0.0</td><td>0.0</td><td>0.0</td><td>0.0</td><td>0.0</td><td>0.0</td><td>&quot;1&quot;</td><td>1.0</td><td>0.0</td><td>&quot;3946&quot;</td><td>&quot;3860&quot;</td><td>&quot;1581&quot;</td><td>&quot;0&quot;</td><td>&quot;86&quot;</td><td>&quot;3971&quot;</td></tr><tr><td>&quot;mean&quot;</td><td>null</td><td>null</td><td>21.995973</td><td>null</td><td>0.568369</td><td>4.789831</td><td>3710.107727</td><td>157.022653</td><td>2.344576</td><td>0.126101</td><td>0.625724</td><td>0.62673</td><td>0.387113</td><td>null</td><td>null</td><td>null</td><td>207.230005</td><td>0.01183</td><td>0.01183</td><td>0.0</td><td>0.746036</td><td>0.239869</td><td>0.587717</td><td>0.022905</td><td>1.109237</td><td>0.283161</td><td>0.063428</td><td>0.648125</td><td>0.052102</td><td>0.018626</td><td>0.010571</td><td>0.220992</td><td>0.961238</td><td>null</td><td>1.4289e9</td><td>0.003775</td><td>null</td><td>null</td><td>null</td><td>null</td><td>null</td><td>null</td></tr><tr><td>&quot;std&quot;</td><td>null</td><td>null</td><td>1.961868</td><td>null</td><td>0.325983</td><td>4.42515</td><td>6857.418509</td><td>378.487718</td><td>12.264101</td><td>1.241874</td><td>0.483997</td><td>0.483734</td><td>0.487151</td><td>null</td><td>null</td><td>null</td><td>196.594017</td><td>0.108133</td><td>0.108133</td><td>0.0</td><td>0.435332</td><td>0.427057</td><td>0.492308</td><td>0.149618</td><td>0.583119</td><td>0.450591</td><td>0.243762</td><td>0.477616</td><td>0.22226</td><td>0.135216</td><td>0.102285</td><td>0.414967</td><td>0.193051</td><td>null</td><td>823339.712555</td><td>0.061337</td><td>null</td><td>null</td><td>null</td><td>null</td><td>null</td><td>null</td></tr><tr><td>&quot;min&quot;</td><td>&quot;F&quot;</td><td>&quot;F&quot;</td><td>18.0</td><td>&quot;#...&quot;</td><td>0.0</td><td>0.0</td><td>0.0</td><td>0.0</td><td>0.0</td><td>0.0</td><td>0.0</td><td>0.0</td><td>0.0</td><td>&quot;AR&quot;</td><td>&quot;Aachen&quot;</td><td>&quot;Aachen&quot;</td><td>0.0</td><td>0.0</td><td>0.0</td><td>0.0</td><td>0.0</td><td>0.0</td><td>0.0</td><td>0.0</td><td>0.0</td><td>0.0</td><td>0.0</td><td>0.0</td><td>0.0</td><td>0.0</td><td>0.0</td><td>0.0</td><td>0.0</td><td>&quot;2015-03-17T11:…</td><td>1.4266e9</td><td>0.0</td><td>&quot;1&quot;</td><td>&quot;#FitnessSquats…</td><td>&quot;! Keine Kerle!…</td><td>&quot;4e3842f79b70e7…</td><td>&quot;1f53eb02dd41c9…</td><td>&quot;1&quot;</td></tr><tr><td>&quot;max&quot;</td><td>&quot;F&quot;</td><td>&quot;none&quot;</td><td>28.0</td><td>&quot;🙉🙊🙈&quot;</td><td>1.0</td><td>30.0</td><td>164425.0</td><td>9288.0</td><td>241.0</td><td>43.0</td><td>1.0</td><td>1.0</td><td>1.0</td><td>&quot;US&quot;</td><td>&quot;ซูริก&quot;</td><td>&quot;ซูริก&quot;</td><td>6918.0</td><td>1.0</td><td>1.0</td><td>0.0</td><td>1.0</td><td>1.0</td><td>1.0</td><td>1.0</td><td>9.0</td><td>1.0</td><td>1.0</td><td>1.0</td><td>1.0</td><td>1.0</td><td>1.0</td><td>1.0</td><td>1.0</td><td>&quot;2015-05-03T10:…</td><td>1.4306e9</td><td>1.0</td><td>&quot;1&quot;</td><td>&quot;🙋👌☝️&quot;</td><td>&quot;🚺🚼&quot;</td><td>&quot;CRYy3Jyp0eCGRS…</td><td>&quot;e532a6060fe4e5…</td><td>&quot;1&quot;</td></tr><tr><td>&quot;median&quot;</td><td>null</td><td>null</td><td>22.0</td><td>null</td><td>0.62</td><td>4.0</td><td>1237.0</td><td>44.0</td><td>0.0</td><td>0.0</td><td>1.0</td><td>1.0</td><td>0.0</td><td>null</td><td>null</td><td>null</td><td>172.0</td><td>0.0</td><td>0.0</td><td>0.0</td><td>1.0</td><td>0.0</td><td>1.0</td><td>0.0</td><td>1.0</td><td>0.0</td><td>0.0</td><td>1.0</td><td>0.0</td><td>0.0</td><td>0.0</td><td>0.0</td><td>1.0</td><td>null</td><td>1.4284e9</td><td>0.0</td><td>null</td><td>null</td><td>null</td><td>null</td><td>null</td><td>null</td></tr><tr><td>&quot;25%&quot;</td><td>null</td><td>null</td><td>20.0</td><td>null</td><td>0.31</td><td>2.0</td><td>384.0</td><td>11.0</td><td>0.0</td><td>0.0</td><td>null</td><td>null</td><td>null</td><td>null</td><td>null</td><td>null</td><td>83.8</td><td>0.0</td><td>0.0</td><td>0.0</td><td>0.0</td><td>0.0</td><td>0.0</td><td>0.0</td><td>1.0</td><td>null</td><td>null</td><td>null</td><td>null</td><td>null</td><td>null</td><td>0.0</td><td>1.0</td><td>null</td><td>1.4283e9</td><td>0.0</td><td>null</td><td>null</td><td>null</td><td>null</td><td>null</td><td>null</td></tr><tr><td>&quot;75%&quot;</td><td>null</td><td>null</td><td>24.0</td><td>null</td><td>0.85</td><td>6.0</td><td>4061.0</td><td>141.0</td><td>0.0</td><td>0.0</td><td>null</td><td>null</td><td>null</td><td>null</td><td>null</td><td>null</td><td>317.0</td><td>0.0</td><td>0.0</td><td>0.0</td><td>1.0</td><td>0.0</td><td>1.0</td><td>0.0</td><td>1.0</td><td>null</td><td>null</td><td>null</td><td>null</td><td>null</td><td>null</td><td>0.0</td><td>1.0</td><td>null</td><td>1.4300e9</td><td>0.0</td><td>null</td><td>null</td><td>null</td><td>null</td><td>null</td><td>null</td></tr></tbody></table></div>"
      ],
      "text/plain": [
       "shape: (9, 43)\n",
       "┌────────────┬────────┬────────────┬───────────┬───┬───────────┬────────────────┬───────────────┬────────────┐\n",
       "│ describe   ┆ gender ┆ genderLook ┆ age       ┆ … ┆ whazzup   ┆ pictureId      ┆ userId        ┆ isSystemPr │\n",
       "│ ---        ┆ ---    ┆ ing        ┆ ---       ┆   ┆ ---       ┆ ---            ┆ ---           ┆ ofile      │\n",
       "│ str        ┆ str    ┆ ---        ┆ f64       ┆   ┆ str       ┆ str            ┆ str           ┆ ---        │\n",
       "│            ┆        ┆ str        ┆           ┆   ┆           ┆                ┆               ┆ str        │\n",
       "╞════════════╪════════╪════════════╪═══════════╪═══╪═══════════╪════════════════╪═══════════════╪════════════╡\n",
       "│ count      ┆ 3973   ┆ 3973       ┆ 3973.0    ┆ … ┆ 3973      ┆ 3973           ┆ 3973          ┆ 3973       │\n",
       "│ null_count ┆ 0      ┆ 0          ┆ 0.0       ┆ … ┆ 1581      ┆ 0              ┆ 86            ┆ 3971       │\n",
       "│ mean       ┆ null   ┆ null       ┆ 21.995973 ┆ … ┆ null      ┆ null           ┆ null          ┆ null       │\n",
       "│ std        ┆ null   ┆ null       ┆ 1.961868  ┆ … ┆ null      ┆ null           ┆ null          ┆ null       │\n",
       "│ min        ┆ F      ┆ F          ┆ 18.0      ┆ … ┆ ! Keine   ┆ 4e3842f79b70e7 ┆ 1f53eb02dd41c ┆ 1          │\n",
       "│            ┆        ┆            ┆           ┆   ┆ Kerle!!!  ┆ ea57000064     ┆ 928ee12192f66 ┆            │\n",
       "│            ┆        ┆            ┆           ┆   ┆ Bitte nur ┆                ┆ 3b8bc4        ┆            │\n",
       "│            ┆        ┆            ┆           ┆   ┆ Fraue…    ┆                ┆               ┆            │\n",
       "│ max        ┆ F      ┆ none       ┆ 28.0      ┆ … ┆ 🚺🚼      ┆ CRYy3Jyp0eCGRS ┆ e532a6060fe4e ┆ 1          │\n",
       "│            ┆        ┆            ┆           ┆   ┆           ┆ c1WeQQOIYKh3KP ┆ 5902c66086d90 ┆            │\n",
       "│            ┆        ┆            ┆           ┆   ┆           ┆ 6Jnm…          ┆ 5a9d53        ┆            │\n",
       "│ median     ┆ null   ┆ null       ┆ 22.0      ┆ … ┆ null      ┆ null           ┆ null          ┆ null       │\n",
       "│ 25%        ┆ null   ┆ null       ┆ 20.0      ┆ … ┆ null      ┆ null           ┆ null          ┆ null       │\n",
       "│ 75%        ┆ null   ┆ null       ┆ 24.0      ┆ … ┆ null      ┆ null           ┆ null          ┆ null       │\n",
       "└────────────┴────────┴────────────┴───────────┴───┴───────────┴────────────────┴───────────────┴────────────┘"
      ]
     },
     "execution_count": 51,
     "metadata": {},
     "output_type": "execute_result"
    },
    {
     "data": {
      "application/javascript": [
       "\n",
       "            setTimeout(function() {\n",
       "                var nbb_cell_id = 51;\n",
       "                var nbb_unformatted_code = \"df.describe()\";\n",
       "                var nbb_formatted_code = \"df.describe()\";\n",
       "                var nbb_cells = Jupyter.notebook.get_cells();\n",
       "                for (var i = 0; i < nbb_cells.length; ++i) {\n",
       "                    if (nbb_cells[i].input_prompt_number == nbb_cell_id) {\n",
       "                        if (nbb_cells[i].get_text() == nbb_unformatted_code) {\n",
       "                             nbb_cells[i].set_text(nbb_formatted_code);\n",
       "                        }\n",
       "                        break;\n",
       "                    }\n",
       "                }\n",
       "            }, 500);\n",
       "            "
      ],
      "text/plain": [
       "<IPython.core.display.Javascript object>"
      ]
     },
     "metadata": {},
     "output_type": "display_data"
    }
   ],
   "source": [
    "df.describe()"
   ]
  },
  {
   "cell_type": "code",
   "execution_count": 56,
   "id": "mighty-technical",
   "metadata": {},
   "outputs": [
    {
     "data": {
      "text/plain": [
       "3877"
      ]
     },
     "execution_count": 56,
     "metadata": {},
     "output_type": "execute_result"
    },
    {
     "data": {
      "application/javascript": [
       "\n",
       "            setTimeout(function() {\n",
       "                var nbb_cell_id = 56;\n",
       "                var nbb_unformatted_code = \"len(df[\\\"userId\\\"].unique())\";\n",
       "                var nbb_formatted_code = \"len(df[\\\"userId\\\"].unique())\";\n",
       "                var nbb_cells = Jupyter.notebook.get_cells();\n",
       "                for (var i = 0; i < nbb_cells.length; ++i) {\n",
       "                    if (nbb_cells[i].input_prompt_number == nbb_cell_id) {\n",
       "                        if (nbb_cells[i].get_text() == nbb_unformatted_code) {\n",
       "                             nbb_cells[i].set_text(nbb_formatted_code);\n",
       "                        }\n",
       "                        break;\n",
       "                    }\n",
       "                }\n",
       "            }, 500);\n",
       "            "
      ],
      "text/plain": [
       "<IPython.core.display.Javascript object>"
      ]
     },
     "metadata": {},
     "output_type": "display_data"
    }
   ],
   "source": [
    "len(df[\"userId\"].unique())"
   ]
  },
  {
   "cell_type": "code",
   "execution_count": 43,
   "id": "atmospheric-interpretation",
   "metadata": {},
   "outputs": [
    {
     "data": {
      "text/html": [
       "<div><style>\n",
       ".dataframe > thead > tr > th,\n",
       ".dataframe > tbody > tr > td {\n",
       "  text-align: right;\n",
       "}\n",
       "</style>\n",
       "<small>shape: (2_843, 42)</small><table border=\"1\" class=\"dataframe\"><thead><tr><th>gender</th><th>genderLooking</th><th>age</th><th>name</th><th>counts_details</th><th>counts_pictures</th><th>counts_profileVisits</th><th>counts_kisses</th><th>counts_fans</th><th>counts_g</th><th>flirtInterests_chat</th><th>flirtInterests_friends</th><th>flirtInterests_date</th><th>country</th><th>city</th><th>location</th><th>distance</th><th>isFlirtstar</th><th>isHighlighted</th><th>isInfluencer</th><th>isMobile</th><th>isNew</th><th>isOnline</th><th>isVip</th><th>lang_count</th><th>lang_fr</th><th>lang_en</th><th>lang_de</th><th>lang_it</th><th>lang_es</th><th>lang_pt</th><th>verified</th><th>shareProfileEnabled</th><th>lastOnlineDate</th><th>lastOnlineTime</th><th>birthd</th><th>crypt</th><th>freetext</th><th>whazzup</th><th>pictureId</th><th>userId</th><th>isSystemProfile</th></tr><tr><td>str</td><td>str</td><td>i64</td><td>str</td><td>f64</td><td>i64</td><td>i64</td><td>i64</td><td>i64</td><td>i64</td><td>bool</td><td>bool</td><td>bool</td><td>str</td><td>str</td><td>str</td><td>f64</td><td>i64</td><td>i64</td><td>i64</td><td>i64</td><td>i64</td><td>i64</td><td>i64</td><td>i64</td><td>bool</td><td>bool</td><td>bool</td><td>bool</td><td>bool</td><td>bool</td><td>i64</td><td>i64</td><td>str</td><td>i64</td><td>i64</td><td>str</td><td>str</td><td>str</td><td>str</td><td>str</td><td>str</td></tr></thead><tbody><tr><td>&quot;F&quot;</td><td>&quot;M&quot;</td><td>22</td><td>&quot;Ladymeli&quot;</td><td>0.88</td><td>7</td><td>864</td><td>15</td><td>0</td><td>0</td><td>false</td><td>false</td><td>true</td><td>&quot;CH&quot;</td><td>&quot;Wohlen&quot;</td><td>&quot;Adelboden&quot;</td><td>70.8</td><td>0</td><td>0</td><td>0</td><td>0</td><td>0</td><td>0</td><td>0</td><td>1</td><td>false</td><td>false</td><td>true</td><td>false</td><td>false</td><td>false</td><td>0</td><td>1</td><td>&quot;2015-03-23T21:…</td><td>1427147180</td><td>0</td><td>null</td><td>null</td><td>null</td><td>&quot;54c2c4cae96da1…</td><td>&quot;54cbb8a00a6ea1…</td><td>null</td></tr><tr><td>&quot;F&quot;</td><td>&quot;M&quot;</td><td>24</td><td>&quot;Joanna&quot;</td><td>0.88</td><td>7</td><td>337</td><td>118</td><td>0</td><td>0</td><td>true</td><td>true</td><td>true</td><td>&quot;RU&quot;</td><td>&quot;Moscow&quot;</td><td>&quot;Antibes&quot;</td><td>331.0</td><td>0</td><td>0</td><td>0</td><td>1</td><td>1</td><td>1</td><td>0</td><td>1</td><td>false</td><td>true</td><td>false</td><td>false</td><td>false</td><td>false</td><td>1</td><td>1</td><td>&quot;2015-04-06T15:…</td><td>1428335783</td><td>0</td><td>null</td><td>null</td><td>&quot;Envie d&#x27;un caf…</td><td>&quot;55208d35150ba0…</td><td>&quot;55208d41ca6da1…</td><td>null</td></tr><tr><td>&quot;F&quot;</td><td>&quot;M&quot;</td><td>22</td><td>&quot;MariaJose&quot;</td><td>0.6</td><td>4</td><td>1266</td><td>9</td><td>0</td><td>0</td><td>true</td><td>true</td><td>false</td><td>&quot;IT&quot;</td><td>&quot;Torino&quot;</td><td>&quot;Candiolo&quot;</td><td>190.0</td><td>0</td><td>0</td><td>0</td><td>1</td><td>0</td><td>0</td><td>0</td><td>2</td><td>false</td><td>false</td><td>false</td><td>true</td><td>true</td><td>false</td><td>0</td><td>1</td><td>&quot;2015-04-26T10:…</td><td>1430043697</td><td>0</td><td>null</td><td>null</td><td>&quot;:)&quot;</td><td>&quot;54f9133bc86da1…</td><td>&quot;553628e7086ea1…</td><td>null</td></tr><tr><td>&quot;F&quot;</td><td>&quot;M&quot;</td><td>19</td><td>&quot;Giada&quot;</td><td>0.92</td><td>12</td><td>367</td><td>2</td><td>0</td><td>0</td><td>true</td><td>false</td><td>false</td><td>&quot;IT&quot;</td><td>&quot;Mezzomerico&quot;</td><td>&quot;Mezzomerico&quot;</td><td>182.0</td><td>0</td><td>0</td><td>0</td><td>1</td><td>0</td><td>0</td><td>0</td><td>1</td><td>false</td><td>false</td><td>false</td><td>true</td><td>false</td><td>false</td><td>0</td><td>1</td><td>&quot;2015-04-08T11:…</td><td>1428492825</td><td>0</td><td>null</td><td>null</td><td>&quot;ragazza plussi…</td><td>&quot;5482f091180ba0…</td><td>&quot;549fce71150ba0…</td><td>null</td></tr><tr><td>&quot;F&quot;</td><td>&quot;M&quot;</td><td>21</td><td>&quot;Lisiii&quot;</td><td>0.81</td><td>4</td><td>7689</td><td>224</td><td>1</td><td>0</td><td>false</td><td>true</td><td>false</td><td>&quot;DE&quot;</td><td>&quot;Mannheim&quot;</td><td>&quot;Rechberghausen…</td><td>333.0</td><td>0</td><td>0</td><td>0</td><td>0</td><td>0</td><td>1</td><td>0</td><td>1</td><td>false</td><td>false</td><td>true</td><td>false</td><td>false</td><td>false</td><td>1</td><td>1</td><td>&quot;2015-04-06T14:…</td><td>1428332074</td><td>0</td><td>null</td><td>null</td><td>&quot;not that kinda…</td><td>&quot;54f242271a0ba0…</td><td>&quot;550e0540086ea1…</td><td>null</td></tr><tr><td>&quot;F&quot;</td><td>&quot;both&quot;</td><td>18</td><td>&quot;LOVOO Support&quot;</td><td>0.0</td><td>1</td><td>0</td><td>0</td><td>0</td><td>0</td><td>false</td><td>false</td><td>false</td><td>&quot;DE&quot;</td><td>&quot;Dresden&quot;</td><td>&quot;Dresden&quot;</td><td>724.0</td><td>0</td><td>0</td><td>0</td><td>0</td><td>0</td><td>1</td><td>0</td><td>1</td><td>false</td><td>false</td><td>true</td><td>false</td><td>false</td><td>false</td><td>0</td><td>1</td><td>null</td><td>null</td><td>0</td><td>null</td><td>null</td><td>&quot;LOVOO Support&quot;</td><td>&quot;54739347e56da1…</td><td>&quot;54747e5ce56da1…</td><td>&quot;1&quot;</td></tr><tr><td>&quot;F&quot;</td><td>&quot;M&quot;</td><td>20</td><td>&quot;#bettadendem&quot;</td><td>0.62</td><td>16</td><td>19662</td><td>945</td><td>0</td><td>0</td><td>true</td><td>false</td><td>true</td><td>&quot;CH&quot;</td><td>&quot;Winterthur&quot;</td><td>&quot;Schlieren&quot;</td><td>168.0</td><td>0</td><td>0</td><td>0</td><td>1</td><td>0</td><td>0</td><td>0</td><td>1</td><td>false</td><td>false</td><td>true</td><td>false</td><td>false</td><td>false</td><td>0</td><td>1</td><td>&quot;2015-04-11T16:…</td><td>1428770040</td><td>0</td><td>null</td><td>null</td><td>&quot;Sei Du selbst …</td><td>&quot;54373cffca6da1…</td><td>&quot;54ea619e0a6ea1…</td><td>null</td></tr><tr><td>&quot;F&quot;</td><td>&quot;M&quot;</td><td>23</td><td>&quot;ll😘&quot;</td><td>0.73</td><td>6</td><td>6245</td><td>222</td><td>1</td><td>0</td><td>true</td><td>true</td><td>false</td><td>&quot;ID&quot;</td><td>&quot;Badung&quot;</td><td>&quot;Chardonne&quot;</td><td>14.6</td><td>0</td><td>0</td><td>0</td><td>1</td><td>0</td><td>0</td><td>0</td><td>2</td><td>false</td><td>true</td><td>true</td><td>false</td><td>false</td><td>false</td><td>0</td><td>1</td><td>&quot;2015-04-21T20:…</td><td>1429647062</td><td>0</td><td>null</td><td>null</td><td>&quot;Ab 1.85 gross.…</td><td>&quot;545670da150ba0…</td><td>&quot;548765cfca6da1…</td><td>null</td></tr><tr><td>&quot;F&quot;</td><td>&quot;M&quot;</td><td>25</td><td>&quot;stephi&quot;</td><td>0.5</td><td>3</td><td>1766</td><td>38</td><td>0</td><td>0</td><td>false</td><td>true</td><td>false</td><td>&quot;CH&quot;</td><td>&quot;Frauenfeld&quot;</td><td>&quot;Zürich&quot;</td><td>173.0</td><td>0</td><td>0</td><td>0</td><td>1</td><td>0</td><td>0</td><td>0</td><td>1</td><td>false</td><td>false</td><td>true</td><td>false</td><td>false</td><td>false</td><td>0</td><td>1</td><td>&quot;2015-04-06T15:…</td><td>1428335728</td><td>0</td><td>null</td><td>null</td><td>null</td><td>&quot;54ce3a05cb6da1…</td><td>&quot;54ce70f2150ba0…</td><td>null</td></tr><tr><td>&quot;F&quot;</td><td>&quot;M&quot;</td><td>26</td><td>&quot;schülie&quot;</td><td>0.35</td><td>5</td><td>2236</td><td>118</td><td>0</td><td>0</td><td>true</td><td>false</td><td>false</td><td>&quot;CH&quot;</td><td>&quot;Zürich&quot;</td><td>&quot;Zürich&quot;</td><td>173.0</td><td>0</td><td>0</td><td>0</td><td>0</td><td>0</td><td>1</td><td>0</td><td>1</td><td>false</td><td>false</td><td>true</td><td>false</td><td>false</td><td>false</td><td>0</td><td>1</td><td>&quot;2015-04-06T16:…</td><td>1428336686</td><td>0</td><td>null</td><td>null</td><td>null</td><td>&quot;54eb8cbdc96da1…</td><td>&quot;54eb8cc10b6ea1…</td><td>null</td></tr><tr><td>&quot;F&quot;</td><td>&quot;none&quot;</td><td>21</td><td>&quot;mery&quot;</td><td>0.31</td><td>6</td><td>396</td><td>7</td><td>0</td><td>0</td><td>true</td><td>false</td><td>false</td><td>&quot;DE&quot;</td><td>null</td><td>&quot;Piesport&quot;</td><td>374.0</td><td>0</td><td>0</td><td>0</td><td>1</td><td>1</td><td>1</td><td>0</td><td>1</td><td>false</td><td>false</td><td>true</td><td>false</td><td>false</td><td>false</td><td>0</td><td>1</td><td>&quot;2015-04-06T14:…</td><td>1428332288</td><td>0</td><td>null</td><td>null</td><td>null</td><td>&quot;551ee286c66da1…</td><td>&quot;551ee3ac0b6ea1…</td><td>null</td></tr><tr><td>&quot;F&quot;</td><td>&quot;none&quot;</td><td>22</td><td>&quot;GymGril&quot;</td><td>0.0</td><td>17</td><td>4088</td><td>100</td><td>0</td><td>0</td><td>true</td><td>false</td><td>false</td><td>&quot;CH&quot;</td><td>&quot;Zürich&quot;</td><td>&quot;Steinerberg&quot;</td><td>160.0</td><td>0</td><td>0</td><td>0</td><td>0</td><td>0</td><td>0</td><td>0</td><td>1</td><td>false</td><td>false</td><td>true</td><td>false</td><td>false</td><td>false</td><td>0</td><td>1</td><td>&quot;2015-04-08T13:…</td><td>1428499301</td><td>0</td><td>null</td><td>null</td><td>null</td><td>&quot;54750508150ba0…</td><td>&quot;54bc1bde140ba0…</td><td>null</td></tr><tr><td>&hellip;</td><td>&hellip;</td><td>&hellip;</td><td>&hellip;</td><td>&hellip;</td><td>&hellip;</td><td>&hellip;</td><td>&hellip;</td><td>&hellip;</td><td>&hellip;</td><td>&hellip;</td><td>&hellip;</td><td>&hellip;</td><td>&hellip;</td><td>&hellip;</td><td>&hellip;</td><td>&hellip;</td><td>&hellip;</td><td>&hellip;</td><td>&hellip;</td><td>&hellip;</td><td>&hellip;</td><td>&hellip;</td><td>&hellip;</td><td>&hellip;</td><td>&hellip;</td><td>&hellip;</td><td>&hellip;</td><td>&hellip;</td><td>&hellip;</td><td>&hellip;</td><td>&hellip;</td><td>&hellip;</td><td>&hellip;</td><td>&hellip;</td><td>&hellip;</td><td>&hellip;</td><td>&hellip;</td><td>&hellip;</td><td>&hellip;</td><td>&hellip;</td><td>&hellip;</td></tr><tr><td>&quot;F&quot;</td><td>&quot;none&quot;</td><td>22</td><td>&quot;Gaby&quot;</td><td>0.2</td><td>1</td><td>939</td><td>19</td><td>0</td><td>0</td><td>true</td><td>true</td><td>true</td><td>&quot;CH&quot;</td><td>&quot;Kollbrunn&quot;</td><td>&quot;Gräslikon&quot;</td><td>188.0</td><td>0</td><td>0</td><td>0</td><td>1</td><td>0</td><td>1</td><td>0</td><td>1</td><td>false</td><td>true</td><td>false</td><td>false</td><td>false</td><td>false</td><td>0</td><td>1</td><td>&quot;2015-04-27T19:…</td><td>1430163713</td><td>0</td><td>null</td><td>null</td><td>null</td><td>&quot;5525b0c8066ea1…</td><td>&quot;5525b0cee86da1…</td><td>null</td></tr><tr><td>&quot;F&quot;</td><td>&quot;M&quot;</td><td>23</td><td>&quot;melacroft&quot;</td><td>0.77</td><td>5</td><td>225</td><td>6</td><td>0</td><td>0</td><td>false</td><td>false</td><td>true</td><td>&quot;DE&quot;</td><td>&quot;Lahr/Schwarzwa…</td><td>&quot;Lahr/Schwarzwa…</td><td>222.0</td><td>0</td><td>0</td><td>0</td><td>1</td><td>1</td><td>1</td><td>0</td><td>1</td><td>false</td><td>false</td><td>true</td><td>false</td><td>false</td><td>false</td><td>1</td><td>1</td><td>&quot;2015-04-06T14:…</td><td>1428331711</td><td>0</td><td>null</td><td>null</td><td>&quot;The smarter yo…</td><td>&quot;55218bcc190ba0…</td><td>&quot;55218bd0c86da1…</td><td>null</td></tr><tr><td>&quot;F&quot;</td><td>&quot;M&quot;</td><td>20</td><td>&quot;mizzi&quot;</td><td>0.4</td><td>2</td><td>1565</td><td>96</td><td>2</td><td>0</td><td>true</td><td>false</td><td>false</td><td>&quot;CH&quot;</td><td>&quot;Bern&quot;</td><td>&quot;Urtenen-Schönb…</td><td>86.4</td><td>0</td><td>0</td><td>0</td><td>1</td><td>0</td><td>1</td><td>0</td><td>6</td><td>false</td><td>false</td><td>true</td><td>true</td><td>false</td><td>false</td><td>0</td><td>1</td><td>&quot;2015-04-26T11:…</td><td>1430047405</td><td>0</td><td>null</td><td>&quot;insta: work_mi…</td><td>&quot;insta: work_mi…</td><td>&quot;5522c80bc86da1…</td><td>&quot;5526e0b7c56da1…</td><td>null</td></tr><tr><td>&quot;F&quot;</td><td>&quot;none&quot;</td><td>23</td><td>&quot;Patriicia&quot;</td><td>0.0</td><td>4</td><td>925</td><td>42</td><td>0</td><td>0</td><td>false</td><td>false</td><td>false</td><td>&quot;CH&quot;</td><td>&quot;Ostermundigen&quot;</td><td>&quot;Ostermundigen&quot;</td><td>82.0</td><td>0</td><td>0</td><td>0</td><td>1</td><td>0</td><td>1</td><td>0</td><td>1</td><td>false</td><td>false</td><td>true</td><td>false</td><td>false</td><td>false</td><td>0</td><td>1</td><td>&quot;2015-04-27T19:…</td><td>1430161805</td><td>0</td><td>null</td><td>null</td><td>null</td><td>&quot;55340d28e86da1…</td><td>&quot;55340d32e86da1…</td><td>null</td></tr><tr><td>&quot;F&quot;</td><td>&quot;M&quot;</td><td>22</td><td>&quot;Mo 🙈&quot;</td><td>0.12</td><td>1</td><td>0</td><td>0</td><td>0</td><td>0</td><td>true</td><td>true</td><td>true</td><td>&quot;DE&quot;</td><td>null</td><td>&quot;Eppelborn&quot;</td><td>322.0</td><td>0</td><td>0</td><td>0</td><td>0</td><td>1</td><td>1</td><td>0</td><td>1</td><td>false</td><td>false</td><td>true</td><td>false</td><td>false</td><td>false</td><td>0</td><td>1</td><td>&quot;2015-04-06T16:…</td><td>1428336484</td><td>0</td><td>null</td><td>null</td><td>null</td><td>&quot;5522aa5c190ba0…</td><td>&quot;5522aa64160ba0…</td><td>null</td></tr><tr><td>&quot;F&quot;</td><td>&quot;M&quot;</td><td>25</td><td>&quot;Irene&quot;</td><td>0.69</td><td>4</td><td>553</td><td>69</td><td>0</td><td>0</td><td>true</td><td>true</td><td>true</td><td>&quot;CH&quot;</td><td>&quot;Lausanne&quot;</td><td>&quot;Lausanne&quot;</td><td>0.4</td><td>0</td><td>0</td><td>0</td><td>1</td><td>0</td><td>0</td><td>0</td><td>1</td><td>true</td><td>false</td><td>false</td><td>false</td><td>false</td><td>false</td><td>0</td><td>1</td><td>&quot;2015-04-08T06:…</td><td>1428473877</td><td>0</td><td>null</td><td>null</td><td>null</td><td>&quot;55159944ea6da1…</td><td>&quot;551599481b0ba0…</td><td>null</td></tr><tr><td>&quot;F&quot;</td><td>&quot;M&quot;</td><td>21</td><td>&quot;Morenita&quot;</td><td>0.38</td><td>7</td><td>1188</td><td>35</td><td>0</td><td>0</td><td>true</td><td>true</td><td>false</td><td>&quot;CH&quot;</td><td>&quot;Zürich&quot;</td><td>&quot;Zürich&quot;</td><td>173.0</td><td>0</td><td>0</td><td>0</td><td>1</td><td>0</td><td>0</td><td>0</td><td>1</td><td>false</td><td>false</td><td>true</td><td>false</td><td>false</td><td>false</td><td>1</td><td>1</td><td>&quot;2015-04-08T12:…</td><td>1428495798</td><td>0</td><td>null</td><td>null</td><td>&quot;:D&quot;</td><td>&quot;55199c540a6ea1…</td><td>&quot;551aea54ea6da1…</td><td>null</td></tr><tr><td>&quot;F&quot;</td><td>&quot;M&quot;</td><td>24</td><td>&quot;JJ☺️&quot;</td><td>0.04</td><td>1</td><td>4</td><td>0</td><td>0</td><td>0</td><td>false</td><td>false</td><td>true</td><td>&quot;CH&quot;</td><td>&quot;Zürich&quot;</td><td>&quot;Zürich&quot;</td><td>173.0</td><td>0</td><td>0</td><td>0</td><td>0</td><td>1</td><td>1</td><td>0</td><td>1</td><td>false</td><td>false</td><td>true</td><td>false</td><td>false</td><td>false</td><td>0</td><td>1</td><td>&quot;2015-04-06T16:…</td><td>1428336061</td><td>0</td><td>null</td><td>null</td><td>null</td><td>&quot;5522a3aa1b0ba0…</td><td>&quot;5522a6dd170ba0…</td><td>null</td></tr><tr><td>&quot;F&quot;</td><td>&quot;M&quot;</td><td>20</td><td>&quot;jasmin.diaz&quot;</td><td>0.58</td><td>5</td><td>19653</td><td>759</td><td>1</td><td>1</td><td>false</td><td>false</td><td>true</td><td>&quot;CH&quot;</td><td>&quot;Solothurn&quot;</td><td>&quot;Riedholz&quot;</td><td>106.0</td><td>0</td><td>0</td><td>0</td><td>1</td><td>0</td><td>0</td><td>0</td><td>1</td><td>false</td><td>false</td><td>true</td><td>false</td><td>false</td><td>false</td><td>0</td><td>0</td><td>&quot;2015-04-25T18:…</td><td>1429985551</td><td>0</td><td>null</td><td>null</td><td>&quot;;)&quot;</td><td>&quot;5164227c150ba0…</td><td>&quot;51bb6640150ba0…</td><td>null</td></tr><tr><td>&quot;F&quot;</td><td>&quot;M&quot;</td><td>22</td><td>&quot;Nici_93&quot;</td><td>0.54</td><td>3</td><td>483</td><td>16</td><td>0</td><td>0</td><td>true</td><td>true</td><td>false</td><td>&quot;CH&quot;</td><td>&quot;Ettiswil&quot;</td><td>&quot;Ettiswil&quot;</td><td>126.0</td><td>0</td><td>0</td><td>0</td><td>1</td><td>0</td><td>1</td><td>0</td><td>1</td><td>false</td><td>false</td><td>true</td><td>false</td><td>false</td><td>false</td><td>0</td><td>1</td><td>&quot;2015-04-06T14:…</td><td>1428330699</td><td>0</td><td>null</td><td>null</td><td>null</td><td>&quot;5436d3731c0ba0…</td><td>&quot;551baae12f7759…</td><td>null</td></tr><tr><td>&quot;F&quot;</td><td>&quot;M&quot;</td><td>22</td><td>&quot;yonCa&quot;</td><td>0.0</td><td>3</td><td>122</td><td>1</td><td>0</td><td>0</td><td>false</td><td>false</td><td>false</td><td>&quot;DE&quot;</td><td>null</td><td>&quot;Pforzheim&quot;</td><td>304.0</td><td>0</td><td>0</td><td>0</td><td>1</td><td>1</td><td>1</td><td>0</td><td>1</td><td>false</td><td>false</td><td>true</td><td>false</td><td>false</td><td>false</td><td>0</td><td>1</td><td>&quot;2015-04-26T18:…</td><td>1430074225</td><td>0</td><td>null</td><td>null</td><td>null</td><td>&quot;553c3445c96da1…</td><td>&quot;553c3446ed6da1…</td><td>null</td></tr><tr><td>&quot;F&quot;</td><td>&quot;M&quot;</td><td>23</td><td>&quot;OmniaVincitAmo…</td><td>0.81</td><td>6</td><td>2071</td><td>59</td><td>34</td><td>0</td><td>true</td><td>false</td><td>false</td><td>&quot;CH&quot;</td><td>&quot;Aarau&quot;</td><td>&quot;Oberkulm&quot;</td><td>142.0</td><td>1</td><td>1</td><td>0</td><td>1</td><td>0</td><td>1</td><td>0</td><td>1</td><td>false</td><td>false</td><td>true</td><td>false</td><td>false</td><td>false</td><td>1</td><td>1</td><td>&quot;2015-04-19T11:…</td><td>1429444392</td><td>0</td><td>null</td><td>null</td><td>null</td><td>&quot;55155685150ba0…</td><td>&quot;55211f3f190ba0…</td><td>null</td></tr></tbody></table></div>"
      ],
      "text/plain": [
       "shape: (2_843, 42)\n",
       "┌────────┬──────────────┬─────┬──────────────┬───┬──────────────┬──────────────┬──────────────┬──────────────┐\n",
       "│ gender ┆ genderLookin ┆ age ┆ name         ┆ … ┆ whazzup      ┆ pictureId    ┆ userId       ┆ isSystemProf │\n",
       "│ ---    ┆ g            ┆ --- ┆ ---          ┆   ┆ ---          ┆ ---          ┆ ---          ┆ ile          │\n",
       "│ str    ┆ ---          ┆ i64 ┆ str          ┆   ┆ str          ┆ str          ┆ str          ┆ ---          │\n",
       "│        ┆ str          ┆     ┆              ┆   ┆              ┆              ┆              ┆ str          │\n",
       "╞════════╪══════════════╪═════╪══════════════╪═══╪══════════════╪══════════════╪══════════════╪══════════════╡\n",
       "│ F      ┆ M            ┆ 22  ┆ Ladymeli     ┆ … ┆ null         ┆ 54c2c4cae96d ┆ 54cbb8a00a6e ┆ null         │\n",
       "│        ┆              ┆     ┆              ┆   ┆              ┆ a171038b4964 ┆ a1934d8b4caf ┆              │\n",
       "│ F      ┆ M            ┆ 24  ┆ Joanna       ┆ … ┆ Envie d'un   ┆ 55208d35150b ┆ 55208d41ca6d ┆ null         │\n",
       "│        ┆              ┆     ┆              ┆   ┆ café à Juan- ┆ a0e53c8b48b9 ┆ a184258b4837 ┆              │\n",
       "│        ┆              ┆     ┆              ┆   ┆ les-Pins …   ┆              ┆              ┆              │\n",
       "│ F      ┆ M            ┆ 22  ┆ MariaJose    ┆ … ┆ :)           ┆ 54f9133bc86d ┆ 553628e7086e ┆ null         │\n",
       "│        ┆              ┆     ┆              ┆   ┆              ┆ a1b53d8b4c0a ┆ a1519f8b485d ┆              │\n",
       "│ F      ┆ M            ┆ 19  ┆ Giada        ┆ … ┆ ragazza      ┆ 5482f091180b ┆ 549fce71150b ┆ null         │\n",
       "│        ┆              ┆     ┆              ┆   ┆ plussize     ┆ a06c378b4c0a ┆ a0951e8b46f1 ┆              │\n",
       "│        ┆              ┆     ┆              ┆   ┆ solare,dolce ┆              ┆              ┆              │\n",
       "│        ┆              ┆     ┆              ┆   ┆ ge…          ┆              ┆              ┆              │\n",
       "│ …      ┆ …            ┆ …   ┆ …            ┆ … ┆ …            ┆ …            ┆ …            ┆ …            │\n",
       "│ F      ┆ M            ┆ 20  ┆ jasmin.diaz  ┆ … ┆ ;)           ┆ 5164227c150b ┆ 51bb6640150b ┆ null         │\n",
       "│        ┆              ┆     ┆              ┆   ┆              ┆ a0eb480001fa ┆ a04077f13406 ┆              │\n",
       "│ F      ┆ M            ┆ 22  ┆ Nici_93      ┆ … ┆ null         ┆ 5436d3731c0b ┆ 551baae12f77 ┆ null         │\n",
       "│        ┆              ┆     ┆              ┆   ┆              ┆ a04e448b474d ┆ 595d218b4567 ┆              │\n",
       "│ F      ┆ M            ┆ 22  ┆ yonCa        ┆ … ┆ null         ┆ 553c3445c96d ┆ 553c3446ed6d ┆ null         │\n",
       "│        ┆              ┆     ┆              ┆   ┆              ┆ a1a9798b467a ┆ a149318b4ce3 ┆              │\n",
       "│ F      ┆ M            ┆ 23  ┆ OmniaVincitA ┆ … ┆ null         ┆ 55155685150b ┆ 55211f3f190b ┆ null         │\n",
       "│        ┆              ┆     ┆ mor          ┆   ┆              ┆ a0a74a8b49b0 ┆ a09b7e8b45de ┆              │\n",
       "└────────┴──────────────┴─────┴──────────────┴───┴──────────────┴──────────────┴──────────────┴──────────────┘"
      ]
     },
     "execution_count": 43,
     "metadata": {},
     "output_type": "execute_result"
    },
    {
     "data": {
      "application/javascript": [
       "\n",
       "            setTimeout(function() {\n",
       "                var nbb_cell_id = 43;\n",
       "                var nbb_unformatted_code = \"df_users_api_results.unique(subset='name')\";\n",
       "                var nbb_formatted_code = \"df_users_api_results.unique(subset=\\\"name\\\")\";\n",
       "                var nbb_cells = Jupyter.notebook.get_cells();\n",
       "                for (var i = 0; i < nbb_cells.length; ++i) {\n",
       "                    if (nbb_cells[i].input_prompt_number == nbb_cell_id) {\n",
       "                        if (nbb_cells[i].get_text() == nbb_unformatted_code) {\n",
       "                             nbb_cells[i].set_text(nbb_formatted_code);\n",
       "                        }\n",
       "                        break;\n",
       "                    }\n",
       "                }\n",
       "            }, 500);\n",
       "            "
      ],
      "text/plain": [
       "<IPython.core.display.Javascript object>"
      ]
     },
     "metadata": {},
     "output_type": "display_data"
    }
   ],
   "source": [
    "df_users_api_results.unique(subset=\"name\")"
   ]
  },
  {
   "cell_type": "code",
   "execution_count": 46,
   "id": "bibliographic-relevance",
   "metadata": {},
   "outputs": [
    {
     "data": {
      "text/html": [
       "<div><style>\n",
       ".dataframe > thead > tr > th,\n",
       ".dataframe > tbody > tr > td {\n",
       "  text-align: right;\n",
       "}\n",
       "</style>\n",
       "<small>shape: (1_545, 42)</small><table border=\"1\" class=\"dataframe\"><thead><tr><th>gender</th><th>genderLooking</th><th>age</th><th>name</th><th>counts_details</th><th>counts_pictures</th><th>counts_profileVisits</th><th>counts_kisses</th><th>counts_fans</th><th>counts_g</th><th>flirtInterests_chat</th><th>flirtInterests_friends</th><th>flirtInterests_date</th><th>country</th><th>city</th><th>location</th><th>distance</th><th>isFlirtstar</th><th>isHighlighted</th><th>isInfluencer</th><th>isMobile</th><th>isNew</th><th>isOnline</th><th>isVip</th><th>lang_count</th><th>lang_fr</th><th>lang_en</th><th>lang_de</th><th>lang_it</th><th>lang_es</th><th>lang_pt</th><th>verified</th><th>shareProfileEnabled</th><th>lastOnlineDate</th><th>lastOnlineTime</th><th>birthd</th><th>crypt</th><th>freetext</th><th>whazzup</th><th>pictureId</th><th>userId</th><th>isSystemProfile</th></tr><tr><td>str</td><td>str</td><td>i64</td><td>str</td><td>f64</td><td>i64</td><td>i64</td><td>i64</td><td>i64</td><td>i64</td><td>bool</td><td>bool</td><td>bool</td><td>str</td><td>str</td><td>str</td><td>f64</td><td>i64</td><td>i64</td><td>i64</td><td>i64</td><td>i64</td><td>i64</td><td>i64</td><td>i64</td><td>bool</td><td>bool</td><td>bool</td><td>bool</td><td>bool</td><td>bool</td><td>i64</td><td>i64</td><td>str</td><td>i64</td><td>i64</td><td>str</td><td>str</td><td>str</td><td>str</td><td>str</td><td>str</td></tr></thead><tbody><tr><td>&quot;F&quot;</td><td>&quot;M&quot;</td><td>19</td><td>&quot;...&quot;</td><td>0.12</td><td>3</td><td>7694</td><td>143</td><td>14</td><td>0</td><td>true</td><td>true</td><td>true</td><td>&quot;CH&quot;</td><td>&quot;Oberwil (BL)&quot;</td><td>&quot;Basel&quot;</td><td>135.0</td><td>0</td><td>0</td><td>0</td><td>1</td><td>0</td><td>0</td><td>0</td><td>4</td><td>true</td><td>true</td><td>true</td><td>false</td><td>false</td><td>false</td><td>0</td><td>1</td><td>&quot;2015-04-26T01:…</td><td>1430011055</td><td>0</td><td>null</td><td>null</td><td>null</td><td>&quot;50a2cd101b0ba0…</td><td>&quot;550b3d02c66da1…</td><td>null</td></tr><tr><td>&quot;F&quot;</td><td>&quot;M&quot;</td><td>19</td><td>&quot;...&quot;</td><td>0.46</td><td>4</td><td>38561</td><td>4527</td><td>0</td><td>10</td><td>true</td><td>false</td><td>false</td><td>&quot;CH&quot;</td><td>&quot;Cham&quot;</td><td>&quot;Cham&quot;</td><td>157.0</td><td>0</td><td>0</td><td>0</td><td>1</td><td>0</td><td>1</td><td>0</td><td>1</td><td>false</td><td>false</td><td>true</td><td>false</td><td>false</td><td>false</td><td>1</td><td>1</td><td>&quot;2015-04-06T14:…</td><td>1428330674</td><td>0</td><td>null</td><td>null</td><td>&quot;Cmook💋&quot;</td><td>&quot;51a87b1c150ba0…</td><td>&quot;5319963fcb6da1…</td><td>null</td></tr><tr><td>&quot;F&quot;</td><td>&quot;M&quot;</td><td>24</td><td>&quot;...&quot;</td><td>0.19</td><td>4</td><td>4323</td><td>41</td><td>0</td><td>0</td><td>false</td><td>true</td><td>true</td><td>&quot;CH&quot;</td><td>&quot;Zürich&quot;</td><td>&quot;Zürich&quot;</td><td>176.0</td><td>0</td><td>0</td><td>0</td><td>0</td><td>0</td><td>0</td><td>0</td><td>1</td><td>false</td><td>false</td><td>true</td><td>false</td><td>false</td><td>false</td><td>0</td><td>1</td><td>&quot;2015-04-26T12:…</td><td>1430052887</td><td>0</td><td>null</td><td>null</td><td>null</td><td>&quot;53e483e2180ba0…</td><td>&quot;53e483eaea6da1…</td><td>null</td></tr><tr><td>&quot;F&quot;</td><td>&quot;M&quot;</td><td>21</td><td>&quot;...&quot;</td><td>0.08</td><td>4</td><td>4751</td><td>121</td><td>0</td><td>0</td><td>false</td><td>true</td><td>true</td><td>&quot;DE&quot;</td><td>&quot;Köln&quot;</td><td>&quot;Köln&quot;</td><td>492.0</td><td>0</td><td>0</td><td>0</td><td>1</td><td>0</td><td>1</td><td>0</td><td>1</td><td>false</td><td>false</td><td>true</td><td>false</td><td>false</td><td>false</td><td>0</td><td>1</td><td>&quot;2015-04-06T14:…</td><td>1428330358</td><td>0</td><td>null</td><td>null</td><td>&quot;🎀💕&quot;</td><td>&quot;5473335eea6da1…</td><td>&quot;551ee266180ba0…</td><td>null</td></tr><tr><td>&quot;F&quot;</td><td>&quot;M&quot;</td><td>20</td><td>&quot;...&quot;</td><td>0.85</td><td>4</td><td>8463</td><td>479</td><td>0</td><td>0</td><td>true</td><td>true</td><td>true</td><td>&quot;CH&quot;</td><td>&quot;Zürich&quot;</td><td>&quot;Basel&quot;</td><td>135.0</td><td>0</td><td>0</td><td>0</td><td>1</td><td>0</td><td>0</td><td>0</td><td>1</td><td>false</td><td>false</td><td>true</td><td>false</td><td>false</td><td>false</td><td>0</td><td>1</td><td>&quot;2015-04-11T14:…</td><td>1428763771</td><td>0</td><td>null</td><td>null</td><td>&quot;- 😙&quot;</td><td>&quot;549f41731c0ba0…</td><td>&quot;54ebb177066ea1…</td><td>null</td></tr><tr><td>&quot;F&quot;</td><td>&quot;M&quot;</td><td>23</td><td>&quot;...&quot;</td><td>0.0</td><td>4</td><td>1198</td><td>46</td><td>2</td><td>0</td><td>true</td><td>true</td><td>true</td><td>&quot;CH&quot;</td><td>&quot;Lugano&quot;</td><td>&quot;Savosa&quot;</td><td>186.0</td><td>0</td><td>0</td><td>0</td><td>0</td><td>0</td><td>1</td><td>0</td><td>1</td><td>false</td><td>false</td><td>false</td><td>true</td><td>false</td><td>false</td><td>0</td><td>1</td><td>&quot;2015-04-06T16:…</td><td>1428336550</td><td>0</td><td>null</td><td>null</td><td>&quot;..&quot;</td><td>&quot;550d294fc86da1…</td><td>&quot;55226ab0086ea1…</td><td>null</td></tr><tr><td>&quot;F&quot;</td><td>&quot;M&quot;</td><td>19</td><td>&quot;...&quot;</td><td>0.15</td><td>5</td><td>1424</td><td>84</td><td>0</td><td>0</td><td>false</td><td>false</td><td>true</td><td>&quot;CH&quot;</td><td>&quot;Zürich&quot;</td><td>&quot;Zürich&quot;</td><td>173.0</td><td>0</td><td>0</td><td>0</td><td>1</td><td>0</td><td>0</td><td>0</td><td>1</td><td>false</td><td>false</td><td>true</td><td>false</td><td>false</td><td>false</td><td>1</td><td>1</td><td>&quot;2015-04-08T14:…</td><td>1428502863</td><td>0</td><td>null</td><td>null</td><td>null</td><td>&quot;551a7420066ea1…</td><td>&quot;551b6ec0180ba0…</td><td>null</td></tr><tr><td>&quot;F&quot;</td><td>&quot;M&quot;</td><td>22</td><td>&quot;...&quot;</td><td>0.0</td><td>1</td><td>367</td><td>10</td><td>0</td><td>0</td><td>true</td><td>true</td><td>true</td><td>&quot;DE&quot;</td><td>&quot;Esslingen am N…</td><td>&quot;Esslingen am N…</td><td>318.0</td><td>0</td><td>0</td><td>0</td><td>1</td><td>1</td><td>1</td><td>0</td><td>1</td><td>false</td><td>false</td><td>true</td><td>false</td><td>false</td><td>false</td><td>1</td><td>1</td><td>&quot;2015-04-06T16:…</td><td>1428336830</td><td>0</td><td>null</td><td>null</td><td>null</td><td>&quot;551dc806e86da1…</td><td>&quot;551dcda5180ba0…</td><td>null</td></tr><tr><td>&quot;F&quot;</td><td>&quot;M&quot;</td><td>22</td><td>&quot;...&quot;</td><td>0.27</td><td>1</td><td>150</td><td>10</td><td>0</td><td>0</td><td>true</td><td>false</td><td>false</td><td>&quot;DE&quot;</td><td>&quot;Köln&quot;</td><td>&quot;Vallendar&quot;</td><td>436.0</td><td>0</td><td>0</td><td>0</td><td>0</td><td>1</td><td>1</td><td>0</td><td>1</td><td>false</td><td>false</td><td>true</td><td>false</td><td>false</td><td>false</td><td>0</td><td>1</td><td>&quot;2015-04-06T14:…</td><td>1428332198</td><td>0</td><td>null</td><td>null</td><td>null</td><td>&quot;55202216076ea1…</td><td>&quot;55202870076ea1…</td><td>null</td></tr><tr><td>&quot;F&quot;</td><td>&quot;M&quot;</td><td>23</td><td>&quot;...&quot;</td><td>0.23</td><td>2</td><td>176</td><td>11</td><td>0</td><td>0</td><td>true</td><td>true</td><td>false</td><td>&quot;DE&quot;</td><td>&quot;Köln&quot;</td><td>&quot;Köln&quot;</td><td>492.0</td><td>0</td><td>0</td><td>0</td><td>1</td><td>1</td><td>1</td><td>0</td><td>1</td><td>false</td><td>false</td><td>true</td><td>false</td><td>false</td><td>false</td><td>1</td><td>1</td><td>&quot;2015-04-06T14:…</td><td>1428332347</td><td>0</td><td>null</td><td>null</td><td>null</td><td>&quot;5521a0e7e86da1…</td><td>&quot;5521a2b2076ea1…</td><td>null</td></tr><tr><td>&quot;F&quot;</td><td>&quot;M&quot;</td><td>22</td><td>&quot;....&quot;</td><td>0.27</td><td>2</td><td>909</td><td>29</td><td>0</td><td>0</td><td>true</td><td>false</td><td>false</td><td>&quot;DE&quot;</td><td>&quot;Heidenheim an …</td><td>&quot;Heidenheim an …</td><td>360.0</td><td>0</td><td>0</td><td>0</td><td>1</td><td>0</td><td>1</td><td>0</td><td>1</td><td>false</td><td>false</td><td>true</td><td>false</td><td>false</td><td>false</td><td>0</td><td>1</td><td>&quot;2015-04-06T14:…</td><td>1428331957</td><td>0</td><td>null</td><td>null</td><td>&quot;Vergiss nicht-…</td><td>&quot;55046d36c86da1…</td><td>&quot;55048333190ba0…</td><td>null</td></tr><tr><td>&quot;F&quot;</td><td>&quot;M&quot;</td><td>23</td><td>&quot;....&quot;</td><td>0.35</td><td>3</td><td>621</td><td>32</td><td>0</td><td>0</td><td>true</td><td>false</td><td>false</td><td>&quot;DE&quot;</td><td>&quot;Isny im Allgäu…</td><td>&quot;Isny im Allgäu…</td><td>289.0</td><td>0</td><td>0</td><td>0</td><td>1</td><td>0</td><td>1</td><td>0</td><td>1</td><td>false</td><td>false</td><td>true</td><td>false</td><td>false</td><td>false</td><td>0</td><td>1</td><td>&quot;2015-04-06T14:…</td><td>1428332274</td><td>0</td><td>null</td><td>null</td><td>null</td><td>&quot;550f0106e96da1…</td><td>&quot;550f089e086ea1…</td><td>null</td></tr><tr><td>&hellip;</td><td>&hellip;</td><td>&hellip;</td><td>&hellip;</td><td>&hellip;</td><td>&hellip;</td><td>&hellip;</td><td>&hellip;</td><td>&hellip;</td><td>&hellip;</td><td>&hellip;</td><td>&hellip;</td><td>&hellip;</td><td>&hellip;</td><td>&hellip;</td><td>&hellip;</td><td>&hellip;</td><td>&hellip;</td><td>&hellip;</td><td>&hellip;</td><td>&hellip;</td><td>&hellip;</td><td>&hellip;</td><td>&hellip;</td><td>&hellip;</td><td>&hellip;</td><td>&hellip;</td><td>&hellip;</td><td>&hellip;</td><td>&hellip;</td><td>&hellip;</td><td>&hellip;</td><td>&hellip;</td><td>&hellip;</td><td>&hellip;</td><td>&hellip;</td><td>&hellip;</td><td>&hellip;</td><td>&hellip;</td><td>&hellip;</td><td>&hellip;</td><td>&hellip;</td></tr><tr><td>&quot;F&quot;</td><td>&quot;none&quot;</td><td>24</td><td>&quot;tati&quot;</td><td>0.42</td><td>3</td><td>38</td><td>0</td><td>0</td><td>0</td><td>true</td><td>false</td><td>false</td><td>&quot;DE&quot;</td><td>&quot;Hennef (Sieg)&quot;</td><td>&quot;Hennef (Sieg)&quot;</td><td>476.0</td><td>0</td><td>0</td><td>0</td><td>1</td><td>1</td><td>1</td><td>0</td><td>1</td><td>false</td><td>false</td><td>true</td><td>false</td><td>false</td><td>false</td><td>0</td><td>1</td><td>&quot;2015-04-27T19:…</td><td>1430162926</td><td>0</td><td>null</td><td>null</td><td>&quot;bitte lächeln.…</td><td>&quot;553bef54e86da1…</td><td>&quot;553e8334c96da1…</td><td>null</td></tr><tr><td>&quot;F&quot;</td><td>&quot;M&quot;</td><td>25</td><td>&quot;tina&quot;</td><td>0.92</td><td>7</td><td>3413</td><td>86</td><td>0</td><td>1</td><td>true</td><td>false</td><td>true</td><td>&quot;CH&quot;</td><td>&quot;Zweisimmen&quot;</td><td>&quot;Blankenburg&quot;</td><td>57.8</td><td>0</td><td>0</td><td>0</td><td>1</td><td>0</td><td>0</td><td>0</td><td>1</td><td>false</td><td>false</td><td>true</td><td>false</td><td>false</td><td>false</td><td>0</td><td>1</td><td>&quot;2015-04-25T18:…</td><td>1429985473</td><td>0</td><td>null</td><td>null</td><td>&quot;schreibt mir e…</td><td>&quot;5038fbd96f37f3…</td><td>&quot;503cbfc7ca61be…</td><td>null</td></tr><tr><td>&quot;F&quot;</td><td>&quot;none&quot;</td><td>26</td><td>&quot;tina&quot;</td><td>0.69</td><td>2</td><td>11592</td><td>545</td><td>0</td><td>0</td><td>true</td><td>true</td><td>false</td><td>&quot;DE&quot;</td><td>&quot;Frankfurt am M…</td><td>&quot;Frankfurt am M…</td><td>427.0</td><td>0</td><td>0</td><td>0</td><td>1</td><td>0</td><td>1</td><td>0</td><td>1</td><td>false</td><td>false</td><td>true</td><td>false</td><td>false</td><td>false</td><td>0</td><td>1</td><td>&quot;2015-04-06T16:…</td><td>1428336335</td><td>0</td><td>null</td><td>null</td><td>&quot;:)&quot;</td><td>&quot;535e4608150ba0…</td><td>&quot;549ad51ac56da1…</td><td>null</td></tr><tr><td>&quot;F&quot;</td><td>&quot;M&quot;</td><td>23</td><td>&quot;tina&quot;</td><td>0.96</td><td>2</td><td>627</td><td>30</td><td>0</td><td>0</td><td>false</td><td>false</td><td>true</td><td>&quot;DE&quot;</td><td>&quot;Köln&quot;</td><td>&quot;Köln&quot;</td><td>492.0</td><td>0</td><td>0</td><td>0</td><td>1</td><td>0</td><td>0</td><td>0</td><td>1</td><td>false</td><td>false</td><td>true</td><td>false</td><td>false</td><td>false</td><td>0</td><td>1</td><td>&quot;2015-04-06T14:…</td><td>1428332045</td><td>0</td><td>null</td><td>null</td><td>&quot;spaß am leben …</td><td>&quot;551693bb140ba0…</td><td>&quot;551699f9170ba0…</td><td>null</td></tr><tr><td>&quot;F&quot;</td><td>&quot;M&quot;</td><td>20</td><td>&quot;vivi&quot;</td><td>1.0</td><td>9</td><td>5616</td><td>81</td><td>1</td><td>0</td><td>true</td><td>true</td><td>true</td><td>&quot;DE&quot;</td><td>&quot;Ringsheim&quot;</td><td>&quot;Herbolzheim&quot;</td><td>208.0</td><td>0</td><td>0</td><td>0</td><td>1</td><td>0</td><td>0</td><td>0</td><td>1</td><td>false</td><td>false</td><td>true</td><td>false</td><td>false</td><td>false</td><td>1</td><td>1</td><td>&quot;2015-04-26T09:…</td><td>1430039450</td><td>0</td><td>null</td><td>null</td><td>&quot;me no study me…</td><td>&quot;539c086be96da1…</td><td>&quot;53b5bdb3170ba0…</td><td>null</td></tr><tr><td>&quot;F&quot;</td><td>&quot;M&quot;</td><td>24</td><td>&quot;vivi&quot;</td><td>0.92</td><td>5</td><td>285</td><td>0</td><td>0</td><td>0</td><td>true</td><td>true</td><td>true</td><td>&quot;FR&quot;</td><td>&quot;Thaon-les-Vosg…</td><td>&quot;Thaon-les-Vosg…</td><td>193.0</td><td>0</td><td>0</td><td>0</td><td>1</td><td>0</td><td>0</td><td>0</td><td>1</td><td>true</td><td>false</td><td>false</td><td>false</td><td>false</td><td>false</td><td>0</td><td>1</td><td>&quot;2015-04-20T19:…</td><td>1429559376</td><td>0</td><td>null</td><td>null</td><td>null</td><td>&quot;54c0013dc56da1…</td><td>&quot;5527d435180ba0…</td><td>null</td></tr><tr><td>&quot;F&quot;</td><td>&quot;M&quot;</td><td>22</td><td>&quot;xoxo&quot;</td><td>0.85</td><td>4</td><td>8954</td><td>181</td><td>1</td><td>0</td><td>true</td><td>true</td><td>true</td><td>&quot;CH&quot;</td><td>&quot;Zürich&quot;</td><td>&quot;Zürich&quot;</td><td>173.0</td><td>0</td><td>0</td><td>0</td><td>1</td><td>0</td><td>1</td><td>0</td><td>1</td><td>false</td><td>false</td><td>true</td><td>false</td><td>false</td><td>false</td><td>1</td><td>1</td><td>&quot;2015-04-26T11:…</td><td>1430048460</td><td>0</td><td>null</td><td>null</td><td>null</td><td>&quot;52f76e34190ba0…</td><td>&quot;54a7cfe0c96da1…</td><td>null</td></tr><tr><td>&quot;F&quot;</td><td>&quot;M&quot;</td><td>26</td><td>&quot;xoxo&quot;</td><td>0.77</td><td>4</td><td>1644</td><td>52</td><td>0</td><td>0</td><td>false</td><td>false</td><td>true</td><td>&quot;DE&quot;</td><td>&quot;Dudweiler&quot;</td><td>&quot;Saarbrücken&quot;</td><td>307.0</td><td>0</td><td>0</td><td>0</td><td>0</td><td>0</td><td>1</td><td>0</td><td>1</td><td>false</td><td>false</td><td>true</td><td>false</td><td>false</td><td>false</td><td>0</td><td>1</td><td>&quot;2015-04-06T15:…</td><td>1428335782</td><td>0</td><td>null</td><td>null</td><td>null</td><td>&quot;54faa80ec56da1…</td><td>&quot;54faa819160ba0…</td><td>null</td></tr><tr><td>&quot;F&quot;</td><td>&quot;M&quot;</td><td>19</td><td>&quot;xxxx&quot;</td><td>0.92</td><td>3</td><td>213</td><td>2</td><td>0</td><td>0</td><td>true</td><td>false</td><td>true</td><td>&quot;AT&quot;</td><td>&quot;Lustenau&quot;</td><td>&quot;Lustenau&quot;</td><td>250.0</td><td>0</td><td>0</td><td>0</td><td>0</td><td>1</td><td>1</td><td>0</td><td>1</td><td>false</td><td>false</td><td>true</td><td>false</td><td>false</td><td>false</td><td>1</td><td>1</td><td>&quot;2015-04-06T14:…</td><td>1428330221</td><td>0</td><td>null</td><td>null</td><td>&quot;😉😉&quot;</td><td>&quot;552186fd150ba0…</td><td>&quot;55218702170ba0…</td><td>null</td></tr><tr><td>&quot;F&quot;</td><td>&quot;M&quot;</td><td>25</td><td>&quot;xxxx&quot;</td><td>0.0</td><td>1</td><td>50</td><td>2</td><td>0</td><td>0</td><td>false</td><td>false</td><td>false</td><td>&quot;DE&quot;</td><td>&quot;Köln&quot;</td><td>&quot;Siegburg&quot;</td><td>0.0</td><td>0</td><td>0</td><td>0</td><td>0</td><td>1</td><td>1</td><td>0</td><td>1</td><td>false</td><td>false</td><td>true</td><td>false</td><td>false</td><td>false</td><td>0</td><td>1</td><td>&quot;2015-04-26T18:…</td><td>1430074272</td><td>0</td><td>null</td><td>null</td><td>null</td><td>&quot;553ceea9e96da1…</td><td>&quot;553ceec11a0ba0…</td><td>null</td></tr><tr><td>&quot;F&quot;</td><td>&quot;M&quot;</td><td>20</td><td>&quot;♡♡♡&quot;</td><td>0.04</td><td>23</td><td>4833</td><td>86</td><td>0</td><td>0</td><td>false</td><td>true</td><td>false</td><td>&quot;DE&quot;</td><td>&quot;Freiburg im Br…</td><td>&quot;Lahr/Schwarzwa…</td><td>222.0</td><td>1</td><td>1</td><td>0</td><td>1</td><td>0</td><td>1</td><td>0</td><td>2</td><td>false</td><td>false</td><td>true</td><td>false</td><td>false</td><td>false</td><td>1</td><td>1</td><td>&quot;2015-04-26T18:…</td><td>1430074421</td><td>0</td><td>null</td><td>null</td><td>&quot;💋💋&quot;</td><td>&quot;548e0439ca6da1…</td><td>&quot;551496b3180ba0…</td><td>null</td></tr><tr><td>&quot;F&quot;</td><td>&quot;M&quot;</td><td>22</td><td>&quot;♡♡♡&quot;</td><td>0.38</td><td>4</td><td>213</td><td>3</td><td>0</td><td>0</td><td>false</td><td>true</td><td>false</td><td>&quot;DE&quot;</td><td>&quot;Mannheim&quot;</td><td>&quot;Mannheim&quot;</td><td>356.0</td><td>0</td><td>0</td><td>0</td><td>1</td><td>1</td><td>1</td><td>0</td><td>1</td><td>false</td><td>true</td><td>false</td><td>false</td><td>false</td><td>false</td><td>0</td><td>1</td><td>&quot;2015-04-19T11:…</td><td>1429444321</td><td>0</td><td>null</td><td>null</td><td>&quot;good girls are…</td><td>&quot;55325cdf170ba0…</td><td>&quot;55325d84cb6da1…</td><td>null</td></tr></tbody></table></div>"
      ],
      "text/plain": [
       "shape: (1_545, 42)\n",
       "┌────────┬───────────────┬─────┬──────┬───┬────────────────┬────────────────┬────────────────┬───────────────┐\n",
       "│ gender ┆ genderLooking ┆ age ┆ name ┆ … ┆ whazzup        ┆ pictureId      ┆ userId         ┆ isSystemProfi │\n",
       "│ ---    ┆ ---           ┆ --- ┆ ---  ┆   ┆ ---            ┆ ---            ┆ ---            ┆ le            │\n",
       "│ str    ┆ str           ┆ i64 ┆ str  ┆   ┆ str            ┆ str            ┆ str            ┆ ---           │\n",
       "│        ┆               ┆     ┆      ┆   ┆                ┆                ┆                ┆ str           │\n",
       "╞════════╪═══════════════╪═════╪══════╪═══╪════════════════╪════════════════╪════════════════╪═══════════════╡\n",
       "│ F      ┆ M             ┆ 19  ┆ ...  ┆ … ┆ null           ┆ 50a2cd101b0ba0 ┆ 550b3d02c66da1 ┆ null          │\n",
       "│        ┆               ┆     ┆      ┆   ┆                ┆ 3874000031     ┆ 485a8b477d     ┆               │\n",
       "│ F      ┆ M             ┆ 19  ┆ ...  ┆ … ┆ Cmook💋        ┆ 51a87b1c150ba0 ┆ 5319963fcb6da1 ┆ null          │\n",
       "│        ┆               ┆     ┆      ┆   ┆                ┆ 352d0000a3     ┆ 066d8b4641     ┆               │\n",
       "│ F      ┆ M             ┆ 24  ┆ ...  ┆ … ┆ null           ┆ 53e483e2180ba0 ┆ 53e483eaea6da1 ┆ null          │\n",
       "│        ┆               ┆     ┆      ┆   ┆                ┆ 47508b4aa5     ┆ 649b8b457a     ┆               │\n",
       "│ F      ┆ M             ┆ 21  ┆ ...  ┆ … ┆ 🎀💕           ┆ 5473335eea6da1 ┆ 551ee266180ba0 ┆ null          │\n",
       "│        ┆               ┆     ┆      ┆   ┆                ┆ 045f8b456f     ┆ cf188b46eb     ┆               │\n",
       "│ …      ┆ …             ┆ …   ┆ …    ┆ … ┆ …              ┆ …              ┆ …              ┆ …             │\n",
       "│ F      ┆ M             ┆ 19  ┆ xxxx ┆ … ┆ 😉😉           ┆ 552186fd150ba0 ┆ 55218702170ba0 ┆ null          │\n",
       "│        ┆               ┆     ┆      ┆   ┆                ┆ 3d788b4dfd     ┆ 37258b46b7     ┆               │\n",
       "│ F      ┆ M             ┆ 25  ┆ xxxx ┆ … ┆ null           ┆ 553ceea9e96da1 ┆ 553ceec11a0ba0 ┆ null          │\n",
       "│        ┆               ┆     ┆      ┆   ┆                ┆ 901c8b4ac4     ┆ e43e8b4dff     ┆               │\n",
       "│ F      ┆ M             ┆ 20  ┆ ♡♡♡  ┆ … ┆ 💋💋           ┆ 548e0439ca6da1 ┆ 551496b3180ba0 ┆ null          │\n",
       "│        ┆               ┆     ┆      ┆   ┆                ┆ 2d748b4e04     ┆ 221c8b4c9d     ┆               │\n",
       "│ F      ┆ M             ┆ 22  ┆ ♡♡♡  ┆ … ┆ good girls are ┆ 55325cdf170ba0 ┆ 55325d84cb6da1 ┆ null          │\n",
       "│        ┆               ┆     ┆      ┆   ┆ bad girls that ┆ 716e8b4eb3     ┆ f52b8b48ce     ┆               │\n",
       "│        ┆               ┆     ┆      ┆   ┆ ne…            ┆                ┆                ┆               │\n",
       "└────────┴───────────────┴─────┴──────┴───┴────────────────┴────────────────┴────────────────┴───────────────┘"
      ]
     },
     "execution_count": 46,
     "metadata": {},
     "output_type": "execute_result"
    },
    {
     "data": {
      "application/javascript": [
       "\n",
       "            setTimeout(function() {\n",
       "                var nbb_cell_id = 46;\n",
       "                var nbb_unformatted_code = \"df_users_api_results.filter(pl.lit(df_users_api_results[\\\"name\\\"].is_duplicated())).sort(by='name')\";\n",
       "                var nbb_formatted_code = \"df_users_api_results.filter(pl.lit(df_users_api_results[\\\"name\\\"].is_duplicated())).sort(\\n    by=\\\"name\\\"\\n)\";\n",
       "                var nbb_cells = Jupyter.notebook.get_cells();\n",
       "                for (var i = 0; i < nbb_cells.length; ++i) {\n",
       "                    if (nbb_cells[i].input_prompt_number == nbb_cell_id) {\n",
       "                        if (nbb_cells[i].get_text() == nbb_unformatted_code) {\n",
       "                             nbb_cells[i].set_text(nbb_formatted_code);\n",
       "                        }\n",
       "                        break;\n",
       "                    }\n",
       "                }\n",
       "            }, 500);\n",
       "            "
      ],
      "text/plain": [
       "<IPython.core.display.Javascript object>"
      ]
     },
     "metadata": {},
     "output_type": "display_data"
    }
   ],
   "source": [
    "df_users_api_results.filter(pl.lit(df_users_api_results[\"name\"].is_duplicated())).sort(\n",
    "    by=\"name\"\n",
    ")"
   ]
  },
  {
   "cell_type": "code",
   "execution_count": null,
   "id": "likely-negative",
   "metadata": {},
   "outputs": [],
   "source": []
  }
 ],
 "metadata": {
  "kernelspec": {
   "display_name": "Python 3",
   "language": "python",
   "name": "python3"
  },
  "language_info": {
   "codemirror_mode": {
    "name": "ipython",
    "version": 3
   },
   "file_extension": ".py",
   "mimetype": "text/x-python",
   "name": "python",
   "nbconvert_exporter": "python",
   "pygments_lexer": "ipython3",
   "version": "3.9.2"
  }
 },
 "nbformat": 4,
 "nbformat_minor": 5
}
