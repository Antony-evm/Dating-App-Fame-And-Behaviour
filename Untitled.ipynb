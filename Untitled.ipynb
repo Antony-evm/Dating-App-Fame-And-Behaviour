{
 "cells": [
  {
   "cell_type": "code",
   "execution_count": 3,
   "id": "numerous-twins",
   "metadata": {},
   "outputs": [
    {
     "name": "stdout",
     "output_type": "stream",
     "text": [
      "The nb_black extension is already loaded. To reload it, use:\n",
      "  %reload_ext nb_black\n"
     ]
    },
    {
     "data": {
      "application/javascript": [
       "\n",
       "            setTimeout(function() {\n",
       "                var nbb_cell_id = 3;\n",
       "                var nbb_unformatted_code = \"%load_ext nb_black\\nimport polars as pl\\nimport pandas as pd\\nimport numpy as np\\nimport matplotlib.pyplot as plt\\nimport seaborn as sns\\nimport plotly.express as px\\nimport os\";\n",
       "                var nbb_formatted_code = \"%load_ext nb_black\\nimport polars as pl\\nimport pandas as pd\\nimport numpy as np\\nimport matplotlib.pyplot as plt\\nimport seaborn as sns\\nimport plotly.express as px\\nimport os\";\n",
       "                var nbb_cells = Jupyter.notebook.get_cells();\n",
       "                for (var i = 0; i < nbb_cells.length; ++i) {\n",
       "                    if (nbb_cells[i].input_prompt_number == nbb_cell_id) {\n",
       "                        if (nbb_cells[i].get_text() == nbb_unformatted_code) {\n",
       "                             nbb_cells[i].set_text(nbb_formatted_code);\n",
       "                        }\n",
       "                        break;\n",
       "                    }\n",
       "                }\n",
       "            }, 500);\n",
       "            "
      ],
      "text/plain": [
       "<IPython.core.display.Javascript object>"
      ]
     },
     "metadata": {},
     "output_type": "display_data"
    }
   ],
   "source": [
    "%load_ext nb_black\n",
    "import polars as pl\n",
    "import pandas as pd\n",
    "import numpy as np\n",
    "import matplotlib.pyplot as plt\n",
    "import seaborn as sns\n",
    "import plotly.express as px"
   ]
  },
  {
   "cell_type": "code",
   "execution_count": 12,
   "id": "diagnostic-attribute",
   "metadata": {},
   "outputs": [
    {
     "name": "stdout",
     "output_type": "stream",
     "text": [
      "60.6 ms ± 2.65 ms per loop (mean ± std. dev. of 7 runs, 10 loops each)\n"
     ]
    },
    {
     "data": {
      "application/javascript": [
       "\n",
       "            setTimeout(function() {\n",
       "                var nbb_cell_id = 12;\n",
       "                var nbb_unformatted_code = \"%%timeit\\ndf_users_by_age = pd.read_csv(\\\"interests-of-users-by-age.csv\\\")\\ndf_users_api_results = pd.read_csv(\\\"lovoo_v3_users_api-results.csv\\\")\\ndf_users_instances = pd.read_csv(\\\"lovoo_v3_users_instances.csv\\\")\";\n",
       "                var nbb_formatted_code = \"%%timeit\\ndf_users_by_age = pd.read_csv(\\\"interests-of-users-by-age.csv\\\")\\ndf_users_api_results = pd.read_csv(\\\"lovoo_v3_users_api-results.csv\\\")\\ndf_users_instances = pd.read_csv(\\\"lovoo_v3_users_instances.csv\\\")\";\n",
       "                var nbb_cells = Jupyter.notebook.get_cells();\n",
       "                for (var i = 0; i < nbb_cells.length; ++i) {\n",
       "                    if (nbb_cells[i].input_prompt_number == nbb_cell_id) {\n",
       "                        if (nbb_cells[i].get_text() == nbb_unformatted_code) {\n",
       "                             nbb_cells[i].set_text(nbb_formatted_code);\n",
       "                        }\n",
       "                        break;\n",
       "                    }\n",
       "                }\n",
       "            }, 500);\n",
       "            "
      ],
      "text/plain": [
       "<IPython.core.display.Javascript object>"
      ]
     },
     "metadata": {},
     "output_type": "display_data"
    }
   ],
   "source": [
    "%%timeit\n",
    "df_users_by_age = pd.read_csv(\"interests-of-users-by-age.csv\")\n",
    "df_users_api_results = pd.read_csv(\"lovoo_v3_users_api-results.csv\")\n",
    "df_users_instances = pd.read_csv(\"lovoo_v3_users_instances.csv\")"
   ]
  },
  {
   "cell_type": "code",
   "execution_count": 13,
   "id": "advanced-surgery",
   "metadata": {},
   "outputs": [
    {
     "name": "stdout",
     "output_type": "stream",
     "text": [
      "12.3 ms ± 3.43 ms per loop (mean ± std. dev. of 7 runs, 100 loops each)\n"
     ]
    },
    {
     "data": {
      "application/javascript": [
       "\n",
       "            setTimeout(function() {\n",
       "                var nbb_cell_id = 13;\n",
       "                var nbb_unformatted_code = \"%%timeit\\ndf_users_by_age = pl.read_csv(\\\"interests-of-users-by-age.csv\\\")\\ndf_users_api_results = pl.read_csv(\\\"lovoo_v3_users_api-results.csv\\\")\\ndf_users_instances = pl.read_csv(\\\"lovoo_v3_users_instances.csv\\\")\";\n",
       "                var nbb_formatted_code = \"%%timeit\\ndf_users_by_age = pl.read_csv(\\\"interests-of-users-by-age.csv\\\")\\ndf_users_api_results = pl.read_csv(\\\"lovoo_v3_users_api-results.csv\\\")\\ndf_users_instances = pl.read_csv(\\\"lovoo_v3_users_instances.csv\\\")\";\n",
       "                var nbb_cells = Jupyter.notebook.get_cells();\n",
       "                for (var i = 0; i < nbb_cells.length; ++i) {\n",
       "                    if (nbb_cells[i].input_prompt_number == nbb_cell_id) {\n",
       "                        if (nbb_cells[i].get_text() == nbb_unformatted_code) {\n",
       "                             nbb_cells[i].set_text(nbb_formatted_code);\n",
       "                        }\n",
       "                        break;\n",
       "                    }\n",
       "                }\n",
       "            }, 500);\n",
       "            "
      ],
      "text/plain": [
       "<IPython.core.display.Javascript object>"
      ]
     },
     "metadata": {},
     "output_type": "display_data"
    }
   ],
   "source": [
    "%%timeit\n",
    "df_users_by_age = pl.read_csv(\"interests-of-users-by-age.csv\")\n",
    "df_users_api_results = pl.read_csv(\"lovoo_v3_users_api-results.csv\")\n",
    "df_users_instances = pl.read_csv(\"lovoo_v3_users_instances.csv\")"
   ]
  },
  {
   "cell_type": "code",
   "execution_count": 16,
   "id": "accredited-bunny",
   "metadata": {},
   "outputs": [
    {
     "data": {
      "application/javascript": [
       "\n",
       "            setTimeout(function() {\n",
       "                var nbb_cell_id = 16;\n",
       "                var nbb_unformatted_code = \"df_users_by_age = pl.read_csv(\\\"interests-of-users-by-age.csv\\\")\\ndf_users_api_results = pl.read_csv(\\\"lovoo_v3_users_api-results.csv\\\")\\ndf_users_instances = pl.read_csv(\\\"lovoo_v3_users_instances.csv\\\")\";\n",
       "                var nbb_formatted_code = \"df_users_by_age = pl.read_csv(\\\"interests-of-users-by-age.csv\\\")\\ndf_users_api_results = pl.read_csv(\\\"lovoo_v3_users_api-results.csv\\\")\\ndf_users_instances = pl.read_csv(\\\"lovoo_v3_users_instances.csv\\\")\";\n",
       "                var nbb_cells = Jupyter.notebook.get_cells();\n",
       "                for (var i = 0; i < nbb_cells.length; ++i) {\n",
       "                    if (nbb_cells[i].input_prompt_number == nbb_cell_id) {\n",
       "                        if (nbb_cells[i].get_text() == nbb_unformatted_code) {\n",
       "                             nbb_cells[i].set_text(nbb_formatted_code);\n",
       "                        }\n",
       "                        break;\n",
       "                    }\n",
       "                }\n",
       "            }, 500);\n",
       "            "
      ],
      "text/plain": [
       "<IPython.core.display.Javascript object>"
      ]
     },
     "metadata": {},
     "output_type": "display_data"
    }
   ],
   "source": [
    "df_users_by_age = pl.read_csv(\"interests-of-users-by-age.csv\")\n",
    "df_users_api_results = pl.read_csv(\"lovoo_v3_users_api-results.csv\")\n",
    "df_users_instances = pl.read_csv(\"lovoo_v3_users_instances.csv\")"
   ]
  },
  {
   "cell_type": "code",
   "execution_count": 19,
   "id": "prompt-northern",
   "metadata": {},
   "outputs": [
    {
     "data": {
      "text/html": [
       "<div><style>\n",
       ".dataframe > thead > tr > th,\n",
       ".dataframe > tbody > tr > td {\n",
       "  text-align: right;\n",
       "}\n",
       "</style>\n",
       "<small>shape: (2_919, 39)</small><table border=\"1\" class=\"dataframe\"><thead><tr><th>gender</th><th>age</th><th>name</th><th>counts_pictures</th><th>counts_profileVisits</th><th>counts_kisses</th><th>flirtInterests_chat</th><th>flirtInterests_friends</th><th>flirtInterests_date</th><th>connectedToFacebook</th><th>isVIP</th><th>isVerified</th><th>lastOnline</th><th>lastOnlineTs</th><th>lang_count</th><th>lang_fr</th><th>lang_en</th><th>lang_de</th><th>lang_it</th><th>lang_es</th><th>lang_pt</th><th>city</th><th>locationCity</th><th>locationCitySub</th><th>userInfo_visitDate</th><th>countDetails</th><th>crypt</th><th>flirtstar</th><th>freshman</th><th>hasBirthday</th><th>highlighted</th><th>distance</th><th>locked</th><th>mobile</th><th>online</th><th>whazzup</th><th>pictureId</th><th>userId</th><th>isSystemProfile</th></tr><tr><td>str</td><td>i64</td><td>str</td><td>i64</td><td>i64</td><td>i64</td><td>bool</td><td>bool</td><td>bool</td><td>bool</td><td>bool</td><td>bool</td><td>str</td><td>i64</td><td>i64</td><td>bool</td><td>bool</td><td>bool</td><td>bool</td><td>bool</td><td>bool</td><td>str</td><td>str</td><td>str</td><td>str</td><td>f64</td><td>bool</td><td>bool</td><td>bool</td><td>bool</td><td>bool</td><td>f64</td><td>bool</td><td>bool</td><td>bool</td><td>str</td><td>str</td><td>str</td><td>bool</td></tr></thead><tbody><tr><td>&quot;F&quot;</td><td>25</td><td>&quot;daeni&quot;</td><td>4</td><td>8279</td><td>239</td><td>true</td><td>true</td><td>true</td><td>false</td><td>false</td><td>false</td><td>&quot;2015-04-25 20:…</td><td>1429994606</td><td>1</td><td>false</td><td>false</td><td>true</td><td>false</td><td>false</td><td>false</td><td>&quot;Rothenburg&quot;</td><td>&quot;Rümlang&quot;</td><td>null</td><td>null</td><td>1.0</td><td>false</td><td>false</td><td>false</td><td>false</td><td>false</td><td>175.0</td><td>false</td><td>true</td><td>false</td><td>&quot;Nur tote fisch…</td><td>&quot;4e3842f79b70e7…</td><td>&quot;55303fc3160ba0…</td><td>false</td></tr><tr><td>&quot;F&quot;</td><td>22</td><td>&quot;italiana 92&quot;</td><td>5</td><td>663</td><td>13</td><td>true</td><td>true</td><td>true</td><td>false</td><td>false</td><td>false</td><td>&quot;2015-04-26 09:…</td><td>1430039975</td><td>3</td><td>true</td><td>false</td><td>true</td><td>true</td><td>false</td><td>false</td><td>&quot;Sissach&quot;</td><td>&quot;Sissach&quot;</td><td>null</td><td>null</td><td>0.85</td><td>false</td><td>false</td><td>false</td><td>false</td><td>false</td><td>138.0</td><td>false</td><td>true</td><td>false</td><td>&quot;Primaveraaa&lt;3&quot;</td><td>&quot;4e3d34bf5d2bce…</td><td>&quot;552e7b61c66da1…</td><td>false</td></tr><tr><td>&quot;F&quot;</td><td>20</td><td>&quot;Qqkwmdowlo&quot;</td><td>3</td><td>22187</td><td>1015</td><td>true</td><td>true</td><td>false</td><td>false</td><td>false</td><td>false</td><td>&quot;2015-04-07 11:…</td><td>1428405661</td><td>2</td><td>true</td><td>true</td><td>false</td><td>false</td><td>false</td><td>false</td><td>&quot;Montréal&quot;</td><td>&quot;Berne&quot;</td><td>null</td><td>null</td><td>0.12</td><td>false</td><td>false</td><td>false</td><td>false</td><td>false</td><td>77.300003</td><td>false</td><td>false</td><td>false</td><td>&quot;Je pense donc …</td><td>&quot;4eef8b81ebf2c8…</td><td>&quot;54c92738076ea1…</td><td>false</td></tr><tr><td>&quot;F&quot;</td><td>24</td><td>&quot;Baby dee&quot;</td><td>18</td><td>7339</td><td>180</td><td>true</td><td>false</td><td>true</td><td>false</td><td>false</td><td>false</td><td>&quot;2015-04-08 14:…</td><td>1428503871</td><td>2</td><td>false</td><td>true</td><td>true</td><td>false</td><td>false</td><td>false</td><td>&quot;Titisee-Neusta…</td><td>&quot;Titisee-Neusta…</td><td>null</td><td>null</td><td>0.81</td><td>false</td><td>false</td><td>false</td><td>false</td><td>false</td><td>194.0</td><td>false</td><td>true</td><td>true</td><td>&quot;Wicked Wonderl…</td><td>&quot;4ef9434cca61be…</td><td>&quot;54f2b4ce0b6ea1…</td><td>false</td></tr><tr><td>&quot;F&quot;</td><td>24</td><td>&quot;Anna&quot;</td><td>13</td><td>18672</td><td>492</td><td>false</td><td>true</td><td>false</td><td>false</td><td>false</td><td>false</td><td>&quot;2015-04-27 19:…</td><td>1430162998</td><td>5</td><td>false</td><td>true</td><td>true</td><td>false</td><td>false</td><td>false</td><td>&quot;Stuttgart&quot;</td><td>&quot;Stuttgart&quot;</td><td>null</td><td>null</td><td>0.65</td><td>false</td><td>false</td><td>false</td><td>false</td><td>false</td><td>318.0</td><td>false</td><td>true</td><td>true</td><td>&quot;💚 ✅ Instagram …</td><td>&quot;4f10cbc1883fa9…</td><td>&quot;54ecbb39170ba0…</td><td>false</td></tr><tr><td>&quot;F&quot;</td><td>23</td><td>&quot;Feelinchen&quot;</td><td>6</td><td>19091</td><td>1348</td><td>true</td><td>false</td><td>true</td><td>false</td><td>false</td><td>false</td><td>&quot;2015-04-08 14:…</td><td>1428502691</td><td>2</td><td>false</td><td>true</td><td>true</td><td>false</td><td>false</td><td>false</td><td>&quot;Eisenhüttensta…</td><td>&quot;Bad Krozingen&quot;</td><td>null</td><td>null</td><td>0.81</td><td>false</td><td>false</td><td>false</td><td>false</td><td>false</td><td>175.0</td><td>false</td><td>true</td><td>false</td><td>&quot;🌸🗻🌸&quot;</td><td>&quot;4f317525883fa9…</td><td>&quot;54fc1786170ba0…</td><td>false</td></tr><tr><td>&quot;F&quot;</td><td>20</td><td>&quot;chantal&quot;</td><td>14</td><td>29984</td><td>2389</td><td>true</td><td>true</td><td>true</td><td>false</td><td>false</td><td>false</td><td>&quot;2015-04-07 20:…</td><td>1428436915</td><td>3</td><td>true</td><td>true</td><td>true</td><td>false</td><td>false</td><td>false</td><td>&quot;Gstaad&quot;</td><td>&quot;Steffisburg&quot;</td><td>null</td><td>null</td><td>0.88</td><td>false</td><td>false</td><td>false</td><td>false</td><td>false</td><td>81.400002</td><td>false</td><td>true</td><td>false</td><td>&quot;🙊🙉🙈&quot;</td><td>&quot;4f3516420c84d3…</td><td>&quot;550c8310066ea1…</td><td>false</td></tr><tr><td>&quot;F&quot;</td><td>24</td><td>&quot;rina1990&quot;</td><td>1</td><td>5979</td><td>147</td><td>true</td><td>true</td><td>true</td><td>false</td><td>false</td><td>false</td><td>&quot;2015-04-06 16:…</td><td>1428336649</td><td>2</td><td>false</td><td>true</td><td>true</td><td>false</td><td>false</td><td>false</td><td>&quot;Stuttgart&quot;</td><td>&quot;Stuttgart&quot;</td><td>null</td><td>null</td><td>0.81</td><td>false</td><td>false</td><td>false</td><td>false</td><td>false</td><td>315.0</td><td>false</td><td>false</td><td>true</td><td>&quot;:-)&quot;</td><td>&quot;4fa0fb54883fa9…</td><td>&quot;53745af3150ba0…</td><td>false</td></tr><tr><td>&quot;F&quot;</td><td>22</td><td>&quot;anniwhat&quot;</td><td>3</td><td>10450</td><td>421</td><td>true</td><td>true</td><td>false</td><td>false</td><td>false</td><td>false</td><td>&quot;2015-04-26 11:…</td><td>1430047421</td><td>1</td><td>false</td><td>false</td><td>true</td><td>false</td><td>false</td><td>false</td><td>&quot;Bad Bellingen&quot;</td><td>&quot;Bad Bellingen&quot;</td><td>null</td><td>null</td><td>0.54</td><td>false</td><td>false</td><td>false</td><td>false</td><td>false</td><td>148.0</td><td>false</td><td>true</td><td>true</td><td>&quot;live louder an…</td><td>&quot;4fb4198f883fa9…</td><td>&quot;53eb2d41ea6da1…</td><td>false</td></tr><tr><td>&quot;F&quot;</td><td>20</td><td>&quot;Pierrette&quot;</td><td>5</td><td>2612</td><td>117</td><td>true</td><td>true</td><td>false</td><td>false</td><td>false</td><td>false</td><td>&quot;2015-04-08 14:…</td><td>1428503665</td><td>1</td><td>false</td><td>false</td><td>true</td><td>false</td><td>false</td><td>false</td><td>&quot;Basel&quot;</td><td>&quot;Liestal&quot;</td><td>null</td><td>null</td><td>0.92</td><td>false</td><td>false</td><td>false</td><td>false</td><td>false</td><td>136.0</td><td>false</td><td>true</td><td>true</td><td>&quot;kamehameha&quot;</td><td>&quot;4fc51294ca61be…</td><td>&quot;5501ff6bcc6da1…</td><td>false</td></tr><tr><td>&quot;F&quot;</td><td>20</td><td>&quot;brava ragazza&quot;</td><td>12</td><td>32450</td><td>787</td><td>true</td><td>true</td><td>true</td><td>false</td><td>false</td><td>true</td><td>&quot;2015-04-26 10:…</td><td>1430042670</td><td>1</td><td>false</td><td>false</td><td>true</td><td>false</td><td>false</td><td>false</td><td>&quot;Zürich&quot;</td><td>&quot;Zürich&quot;</td><td>null</td><td>null</td><td>0.85</td><td>false</td><td>false</td><td>false</td><td>false</td><td>false</td><td>171.0</td><td>false</td><td>true</td><td>false</td><td>&quot;nur ernstes gs…</td><td>&quot;4ff9f4aaebf2c8…</td><td>&quot;54ce9b6d170ba0…</td><td>false</td></tr><tr><td>&quot;F&quot;</td><td>22</td><td>&quot;Madeline&quot;</td><td>4</td><td>1710</td><td>116</td><td>false</td><td>false</td><td>true</td><td>false</td><td>false</td><td>false</td><td>&quot;2015-04-08 14:…</td><td>1428504595</td><td>1</td><td>false</td><td>false</td><td>true</td><td>false</td><td>false</td><td>false</td><td>&quot;Emmendingen&quot;</td><td>&quot;Hinterzarten&quot;</td><td>null</td><td>null</td><td>0.96</td><td>false</td><td>false</td><td>false</td><td>false</td><td>false</td><td>190.0</td><td>false</td><td>true</td><td>false</td><td>&quot;Live your life…</td><td>&quot;500aef142d15de…</td><td>&quot;500aef252d15de…</td><td>false</td></tr><tr><td>&hellip;</td><td>&hellip;</td><td>&hellip;</td><td>&hellip;</td><td>&hellip;</td><td>&hellip;</td><td>&hellip;</td><td>&hellip;</td><td>&hellip;</td><td>&hellip;</td><td>&hellip;</td><td>&hellip;</td><td>&hellip;</td><td>&hellip;</td><td>&hellip;</td><td>&hellip;</td><td>&hellip;</td><td>&hellip;</td><td>&hellip;</td><td>&hellip;</td><td>&hellip;</td><td>&hellip;</td><td>&hellip;</td><td>&hellip;</td><td>&hellip;</td><td>&hellip;</td><td>&hellip;</td><td>&hellip;</td><td>&hellip;</td><td>&hellip;</td><td>&hellip;</td><td>&hellip;</td><td>&hellip;</td><td>&hellip;</td><td>&hellip;</td><td>&hellip;</td><td>&hellip;</td><td>&hellip;</td><td>&hellip;</td></tr><tr><td>&quot;F&quot;</td><td>24</td><td>&quot;Mon**a&quot;</td><td>7</td><td>7274</td><td>581</td><td>false</td><td>false</td><td>false</td><td>false</td><td>false</td><td>true</td><td>&quot;2015-04-26 17:…</td><td>1430071021</td><td>1</td><td>false</td><td>false</td><td>false</td><td>true</td><td>false</td><td>false</td><td>&quot;Lausanne&quot;</td><td>&quot;Prilly&quot;</td><td>null</td><td>null</td><td>1.0</td><td>true</td><td>false</td><td>false</td><td>false</td><td>false</td><td>0.0</td><td>false</td><td>true</td><td>true</td><td>&quot;tous des créat…</td><td>&quot;CRYJf7bPpRxAgg…</td><td>&quot;7e0ddbdb1bd293…</td><td>false</td></tr><tr><td>&quot;F&quot;</td><td>21</td><td>&quot;C*y&quot;</td><td>6</td><td>1883</td><td>100</td><td>true</td><td>true</td><td>false</td><td>false</td><td>false</td><td>false</td><td>&quot;2015-04-19 11:…</td><td>1429443952</td><td>2</td><td>true</td><td>false</td><td>false</td><td>false</td><td>true</td><td>false</td><td>&quot;Genève&quot;</td><td>&quot;Genève&quot;</td><td>null</td><td>null</td><td>0.46</td><td>true</td><td>false</td><td>false</td><td>false</td><td>false</td><td>0.0</td><td>false</td><td>true</td><td>true</td><td>null</td><td>&quot;CRYJYnqyL1PDEb…</td><td>&quot;b4e5e6854867b9…</td><td>false</td></tr><tr><td>&quot;F&quot;</td><td>21</td><td>&quot;C*y&quot;</td><td>6</td><td>2405</td><td>109</td><td>true</td><td>true</td><td>false</td><td>false</td><td>false</td><td>false</td><td>&quot;2015-04-26 11:…</td><td>1430047321</td><td>2</td><td>true</td><td>false</td><td>false</td><td>false</td><td>true</td><td>false</td><td>&quot;Genève&quot;</td><td>&quot;Genève&quot;</td><td>null</td><td>null</td><td>0.46</td><td>true</td><td>false</td><td>false</td><td>false</td><td>false</td><td>0.0</td><td>false</td><td>true</td><td>false</td><td>null</td><td>&quot;CRYjVoExakQY+s…</td><td>&quot;b4e5e6854867b9…</td><td>false</td></tr><tr><td>&quot;F&quot;</td><td>21</td><td>&quot;`Ca***.&quot;</td><td>5</td><td>6613</td><td>132</td><td>true</td><td>true</td><td>true</td><td>false</td><td>false</td><td>false</td><td>&quot;2015-04-26 16:…</td><td>1430066461</td><td>1</td><td>true</td><td>false</td><td>false</td><td>false</td><td>false</td><td>false</td><td>&quot;Mâcon&quot;</td><td>&quot;Mâcon&quot;</td><td>null</td><td>null</td><td>0.08</td><td>true</td><td>false</td><td>false</td><td>false</td><td>false</td><td>0.0</td><td>false</td><td>true</td><td>false</td><td>&quot;snap: misscass…</td><td>&quot;CRYrwoeAFyMXYT…</td><td>&quot;beb2d6f1aad73d…</td><td>false</td></tr><tr><td>&quot;F&quot;</td><td>21</td><td>&quot;B**f&quot;</td><td>1</td><td>280</td><td>15</td><td>true</td><td>true</td><td>false</td><td>false</td><td>false</td><td>false</td><td>&quot;2015-04-07 00:…</td><td>1428365339</td><td>1</td><td>true</td><td>false</td><td>false</td><td>false</td><td>false</td><td>false</td><td>&quot;İstanbulboğazı…</td><td>&quot;Bassens&quot;</td><td>null</td><td>null</td><td>0.85</td><td>true</td><td>false</td><td>false</td><td>false</td><td>false</td><td>0.0</td><td>false</td><td>true</td><td>false</td><td>null</td><td>&quot;CRYqKLbQ1+pd5C…</td><td>&quot;cb958a9459216a…</td><td>false</td></tr><tr><td>&quot;F&quot;</td><td>20</td><td>&quot;Ma**e&quot;</td><td>8</td><td>993</td><td>43</td><td>true</td><td>true</td><td>true</td><td>false</td><td>false</td><td>false</td><td>&quot;2015-04-05 17:…</td><td>1428254899</td><td>1</td><td>true</td><td>false</td><td>false</td><td>false</td><td>false</td><td>false</td><td>&quot;Grancy&quot;</td><td>&quot;Grancy&quot;</td><td>null</td><td>&quot;2015-04-03 17:…</td><td>1.0</td><td>true</td><td>false</td><td>false</td><td>false</td><td>false</td><td>0.0</td><td>true</td><td>true</td><td>true</td><td>&quot;Marie ॐ       …</td><td>&quot;CRYDT7bzEgKpVi…</td><td>&quot;d5a7edbcb59fcb…</td><td>false</td></tr><tr><td>&quot;F&quot;</td><td>20</td><td>&quot;Ma**e&quot;</td><td>8</td><td>998</td><td>43</td><td>true</td><td>true</td><td>true</td><td>false</td><td>false</td><td>false</td><td>&quot;2015-04-05 17:…</td><td>1428254899</td><td>1</td><td>true</td><td>false</td><td>false</td><td>false</td><td>false</td><td>false</td><td>&quot;Grancy&quot;</td><td>&quot;Grancy&quot;</td><td>null</td><td>&quot;2015-04-03 17:…</td><td>1.0</td><td>true</td><td>false</td><td>false</td><td>false</td><td>false</td><td>0.0</td><td>true</td><td>true</td><td>false</td><td>&quot;Marie ॐ       …</td><td>&quot;CRYAz4njp0bsH9…</td><td>&quot;d5a7edbcb59fcb…</td><td>false</td></tr><tr><td>&quot;F&quot;</td><td>20</td><td>&quot;Ma**e&quot;</td><td>8</td><td>1101</td><td>46</td><td>true</td><td>true</td><td>true</td><td>false</td><td>false</td><td>false</td><td>&quot;2015-04-06 07:…</td><td>1428306874</td><td>1</td><td>true</td><td>false</td><td>false</td><td>false</td><td>false</td><td>false</td><td>&quot;Grancy&quot;</td><td>&quot;Bière&quot;</td><td>null</td><td>null</td><td>1.0</td><td>true</td><td>false</td><td>false</td><td>false</td><td>false</td><td>0.0</td><td>false</td><td>false</td><td>false</td><td>&quot;Marie ॐ       …</td><td>&quot;CRYVOrW7zgSV+N…</td><td>&quot;d5a7edbcb59fcb…</td><td>false</td></tr><tr><td>&quot;F&quot;</td><td>23</td><td>&quot;Eni**n&quot;</td><td>8</td><td>8681</td><td>141</td><td>true</td><td>true</td><td>true</td><td>false</td><td>false</td><td>false</td><td>&quot;2015-04-05 18:…</td><td>1428257836</td><td>2</td><td>false</td><td>true</td><td>true</td><td>false</td><td>false</td><td>false</td><td>&quot;Thun&quot;</td><td>&quot;Heimberg&quot;</td><td>null</td><td>&quot;2015-04-04 21:…</td><td>0.96</td><td>true</td><td>false</td><td>false</td><td>false</td><td>false</td><td>0.0</td><td>true</td><td>true</td><td>true</td><td>&quot;ruhig shriebe😉…</td><td>&quot;CRYohLWFV8BkxZ…</td><td>&quot;e532a6060fe4e5…</td><td>false</td></tr><tr><td>&quot;F&quot;</td><td>23</td><td>&quot;Eni**n&quot;</td><td>8</td><td>8682</td><td>141</td><td>true</td><td>true</td><td>true</td><td>false</td><td>false</td><td>false</td><td>&quot;2015-04-05 18:…</td><td>1428257836</td><td>2</td><td>false</td><td>true</td><td>true</td><td>false</td><td>false</td><td>false</td><td>&quot;Thun&quot;</td><td>&quot;Heimberg&quot;</td><td>null</td><td>&quot;2015-04-04 21:…</td><td>0.96</td><td>true</td><td>false</td><td>false</td><td>false</td><td>false</td><td>0.0</td><td>true</td><td>true</td><td>false</td><td>&quot;ruhig shriebe😉…</td><td>&quot;CRYz85gM+yTETN…</td><td>&quot;e532a6060fe4e5…</td><td>false</td></tr><tr><td>&quot;F&quot;</td><td>23</td><td>&quot;Eni**n&quot;</td><td>8</td><td>8702</td><td>142</td><td>true</td><td>true</td><td>true</td><td>false</td><td>false</td><td>false</td><td>&quot;2015-04-06 15:…</td><td>1428335235</td><td>2</td><td>false</td><td>true</td><td>true</td><td>false</td><td>false</td><td>false</td><td>&quot;Thun&quot;</td><td>&quot;Heimberg&quot;</td><td>null</td><td>null</td><td>0.96</td><td>true</td><td>false</td><td>false</td><td>false</td><td>false</td><td>0.0</td><td>false</td><td>true</td><td>true</td><td>&quot;ruhig shriebe😉…</td><td>&quot;CRYsH4q+r4fCkC…</td><td>&quot;e532a6060fe4e5…</td><td>false</td></tr><tr><td>&quot;F&quot;</td><td>23</td><td>&quot;Eni**n&quot;</td><td>9</td><td>8904</td><td>143</td><td>true</td><td>true</td><td>true</td><td>false</td><td>false</td><td>false</td><td>&quot;2015-04-19 08:…</td><td>1429432688</td><td>2</td><td>false</td><td>true</td><td>true</td><td>false</td><td>false</td><td>false</td><td>&quot;Thun&quot;</td><td>&quot;Heimberg&quot;</td><td>null</td><td>null</td><td>0.96</td><td>true</td><td>false</td><td>false</td><td>false</td><td>false</td><td>0.0</td><td>false</td><td>true</td><td>false</td><td>&quot;ruhig shriebe😉…</td><td>&quot;CRYbrX0C8ToNrs…</td><td>&quot;dc186f3855343c…</td><td>false</td></tr></tbody></table></div>"
      ],
      "text/plain": [
       "shape: (2_919, 39)\n",
       "┌────────┬─────┬─────────────┬───────────────┬───┬──────────────┬──────────────┬──────────────┬──────────────┐\n",
       "│ gender ┆ age ┆ name        ┆ counts_pictur ┆ … ┆ whazzup      ┆ pictureId    ┆ userId       ┆ isSystemProf │\n",
       "│ ---    ┆ --- ┆ ---         ┆ es            ┆   ┆ ---          ┆ ---          ┆ ---          ┆ ile          │\n",
       "│ str    ┆ i64 ┆ str         ┆ ---           ┆   ┆ str          ┆ str          ┆ str          ┆ ---          │\n",
       "│        ┆     ┆             ┆ i64           ┆   ┆              ┆              ┆              ┆ bool         │\n",
       "╞════════╪═════╪═════════════╪═══════════════╪═══╪══════════════╪══════════════╪══════════════╪══════════════╡\n",
       "│ F      ┆ 25  ┆ daeni       ┆ 4             ┆ … ┆ Nur tote     ┆ 4e3842f79b70 ┆ 55303fc3160b ┆ false        │\n",
       "│        ┆     ┆             ┆               ┆   ┆ fische       ┆ e7ea57000064 ┆ a0eb728b4575 ┆              │\n",
       "│        ┆     ┆             ┆               ┆   ┆ schwimmen    ┆              ┆              ┆              │\n",
       "│        ┆     ┆             ┆               ┆   ┆ mit de…      ┆              ┆              ┆              │\n",
       "│ F      ┆ 22  ┆ italiana 92 ┆ 5             ┆ … ┆ Primaveraaa< ┆ 4e3d34bf5d2b ┆ 552e7b61c66d ┆ false        │\n",
       "│        ┆     ┆             ┆               ┆   ┆ 3            ┆ ce7b160006a3 ┆ a10d1e8b4c82 ┆              │\n",
       "│ F      ┆ 20  ┆ Qqkwmdowlo  ┆ 3             ┆ … ┆ Je pense     ┆ 4eef8b81ebf2 ┆ 54c92738076e ┆ false        │\n",
       "│        ┆     ┆             ┆               ┆   ┆ donc je      ┆ c8f64000000c ┆ a1b5338b4735 ┆              │\n",
       "│        ┆     ┆             ┆               ┆   ┆ suis.        ┆              ┆              ┆              │\n",
       "│        ┆     ┆             ┆               ┆   ┆ Instagram…   ┆              ┆              ┆              │\n",
       "│ F      ┆ 24  ┆ Baby dee    ┆ 18            ┆ … ┆ Wicked Wonde ┆ 4ef9434cca61 ┆ 54f2b4ce0b6e ┆ false        │\n",
       "│        ┆     ┆             ┆               ┆   ┆ rland💕❤️     ┆ bece6a000002 ┆ a1177e8b4d18 ┆              │\n",
       "│ …      ┆ …   ┆ …           ┆ …             ┆ … ┆ …            ┆ …            ┆ …            ┆ …            │\n",
       "│ F      ┆ 23  ┆ Eni**n      ┆ 8             ┆ … ┆ ruhig        ┆ CRYohLWFV8Bk ┆ e532a6060fe4 ┆ false        │\n",
       "│        ┆     ┆             ┆               ┆   ┆ shriebe😉.   ┆ xZIvOom42Cwo ┆ e5902c66086d ┆              │\n",
       "│        ┆     ┆             ┆               ┆   ┆ bissä ni     ┆ 3ysdViv+…    ┆ 905a9d53     ┆              │\n",
       "│ F      ┆ 23  ┆ Eni**n      ┆ 8             ┆ … ┆ ruhig        ┆ CRYz85gM+yTE ┆ e532a6060fe4 ┆ false        │\n",
       "│        ┆     ┆             ┆               ┆   ┆ shriebe😉.   ┆ TN5FonrExXNH ┆ e5902c66086d ┆              │\n",
       "│        ┆     ┆             ┆               ┆   ┆ bissä ni     ┆ yDuwarWy…    ┆ 905a9d53     ┆              │\n",
       "│ F      ┆ 23  ┆ Eni**n      ┆ 8             ┆ … ┆ ruhig        ┆ CRYsH4q+r4fC ┆ e532a6060fe4 ┆ false        │\n",
       "│        ┆     ┆             ┆               ┆   ┆ shriebe😉.   ┆ kC8+leJqDdJQ ┆ e5902c66086d ┆              │\n",
       "│        ┆     ┆             ┆               ┆   ┆ bissä ni     ┆ tbUNQGCy…    ┆ 905a9d53     ┆              │\n",
       "│ F      ┆ 23  ┆ Eni**n      ┆ 9             ┆ … ┆ ruhig        ┆ CRYbrX0C8ToN ┆ dc186f385534 ┆ false        │\n",
       "│        ┆     ┆             ┆               ┆   ┆ shriebe😉.   ┆ rsDqLPf+kLsC ┆ 3c9f096c484f ┆              │\n",
       "│        ┆     ┆             ┆               ┆   ┆ bissä ni     ┆ SuDY0TOh…    ┆ 6d363aac     ┆              │\n",
       "└────────┴─────┴─────────────┴───────────────┴───┴──────────────┴──────────────┴──────────────┴──────────────┘"
      ]
     },
     "execution_count": 19,
     "metadata": {},
     "output_type": "execute_result"
    },
    {
     "data": {
      "application/javascript": [
       "\n",
       "            setTimeout(function() {\n",
       "                var nbb_cell_id = 19;\n",
       "                var nbb_unformatted_code = \"df_users_instances\";\n",
       "                var nbb_formatted_code = \"df_users_instances\";\n",
       "                var nbb_cells = Jupyter.notebook.get_cells();\n",
       "                for (var i = 0; i < nbb_cells.length; ++i) {\n",
       "                    if (nbb_cells[i].input_prompt_number == nbb_cell_id) {\n",
       "                        if (nbb_cells[i].get_text() == nbb_unformatted_code) {\n",
       "                             nbb_cells[i].set_text(nbb_formatted_code);\n",
       "                        }\n",
       "                        break;\n",
       "                    }\n",
       "                }\n",
       "            }, 500);\n",
       "            "
      ],
      "text/plain": [
       "<IPython.core.display.Javascript object>"
      ]
     },
     "metadata": {},
     "output_type": "display_data"
    }
   ],
   "source": [
    "df_users_instances"
   ]
  },
  {
   "cell_type": "code",
   "execution_count": null,
   "id": "reduced-package",
   "metadata": {},
   "outputs": [],
   "source": []
  }
 ],
 "metadata": {
  "kernelspec": {
   "display_name": "Python 3",
   "language": "python",
   "name": "python3"
  },
  "language_info": {
   "codemirror_mode": {
    "name": "ipython",
    "version": 3
   },
   "file_extension": ".py",
   "mimetype": "text/x-python",
   "name": "python",
   "nbconvert_exporter": "python",
   "pygments_lexer": "ipython3",
   "version": "3.9.2"
  }
 },
 "nbformat": 4,
 "nbformat_minor": 5
}
